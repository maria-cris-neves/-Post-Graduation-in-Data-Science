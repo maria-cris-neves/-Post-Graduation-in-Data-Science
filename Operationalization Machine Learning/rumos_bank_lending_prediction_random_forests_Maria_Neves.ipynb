{
  "cells": [
    {
      "cell_type": "markdown",
      "metadata": {
        "id": "W41gagYVoTXS"
      },
      "source": [
        "# Final Exercice: The Rumos Bank (Random Forest)\n",
        "\n",
        "The Rumos Bank é um banco que tem perdido bastante dinheiro devido à quantidade de créditos que fornece e que não são pagos dentro do prazo devido. \n",
        "\n",
        "    - Por cada cliente que se estima que não irá  pagar dentro do prazo e afinal paga, o banco tem um custo de 1000euros. \n",
        "\n",
        "    - Por cada cliente que se prevê como sendo um bom pagador e afinal não paga dentro do prazo, o banco tem um custo de 3000euros.\n",
        "\n",
        "\n",
        "Vocês, data scientists de topo,  são contratados para ajudar o banco a prever quais os clientes que não irão cumprir os prazos, para que este consiga uma melhor gestão dos fundos.\n",
        "\n",
        "Conseguem construir um modelo que ajude a detectar previamente e com sucesso os clientes que são maus pagadores?\n"
      ]
    },
    {
      "cell_type": "markdown",
      "metadata": {
        "id": "JYU-jH7AoTXT"
      },
      "source": [
        "Dataset: https://www.kaggle.com/uciml/default-of-credit-card-clients-dataset\n",
        "\n",
        "Variáveis disponíveis:\n",
        "\n",
        "    ID: ID of each client\n",
        "    LIMIT_BAL: Amount of given credit in NT dollars (includes individual and family/supplementary credit\n",
        "    SEX: Gender (1=male, 2=female)\n",
        "    EDUCATION: (1=graduate school, 2=university, 3=high school, 4=others, 5=unknown, 6=unknown)\n",
        "    MARRIAGE: Marital status (1=married, 2=single, 3=others)\n",
        "    AGE: Age in years\n",
        "    PAY_0: Repayment status in September, 2005 (-1=pay duly, 1=payment delay for one month, 2=payment delay for two months, ... 8=payment delay for eight months, 9=payment delay for nine months and above)\n",
        "    PAY_2: Repayment status in August, 2005 (scale same as above)\n",
        "    PAY_3: Repayment status in July, 2005 (scale same as above)\n",
        "    PAY_4: Repayment status in June, 2005 (scale same as above)\n",
        "    PAY_5: Repayment status in May, 2005 (scale same as above)\n",
        "    PAY_6: Repayment status in April, 2005 (scale same as above)\n",
        "    BILL_AMT1: Amount of bill statement in September, 2005 (NT dollar)\n",
        "    BILL_AMT2: Amount of bill statement in August, 2005 (NT dollar)\n",
        "    BILL_AMT3: Amount of bill statement in July, 2005 (NT dollar)\n",
        "    BILL_AMT4: Amount of bill statement in June, 2005 (NT dollar)\n",
        "    BILL_AMT5: Amount of bill statement in May, 2005 (NT dollar)\n",
        "    BILL_AMT6: Amount of bill statement in April, 2005 (NT dollar)\n",
        "    PAY_AMT1: Amount of previous payment in September, 2005 (NT dollar)\n",
        "    PAY_AMT2: Amount of previous payment in August, 2005 (NT dollar)\n",
        "    PAY_AMT3: Amount of previous payment in July, 2005 (NT dollar)\n",
        "    PAY_AMT4: Amount of previous payment in June, 2005 (NT dollar)\n",
        "    PAY_AMT5: Amount of previous payment in May, 2005 (NT dollar)\n",
        "    PAY_AMT6: Amount of previous payment in April, 2005 (NT dollar)\n",
        "    default.payment.next.month: Default payment (1=yes, 0=no)"
      ]
    },
    {
      "cell_type": "markdown",
      "metadata": {
        "id": "nVoQ5Qa8oTXU"
      },
      "source": [
        "#### Perguntas:\n",
        "\n",
        "    1. Quantas features estão disponíveis? Quantos clientes?\n",
        "    2. Quantos clientes têm no dataset que efectivamente foram maus pagadores? E quantos não foram?\n",
        "    3. Qual o modelo que levou a melhores resultados? Qual a métrica usada para comparar os diferentes modelos?\n",
        "    4. Quais são as features mais relevantes para decidir se um cliente tem mais propensão para ser mau pagador?\n",
        "    5. Qual seria o custo que o banco tem sem nenhum modelo?\n",
        "    6. Qual o custo que o banco passa a tar com o vosso modelo?"
      ]
    },
    {
      "cell_type": "markdown",
      "metadata": {
        "id": "B2_4cQvxoTXU"
      },
      "source": [
        "Com base na informação dada, podemos definir que:\n",
        "\n",
        "    True positive - Os maus pagadores são identificados correctamente.\n",
        "    True negative - Os bons pagadores são identificados correctamente.\n",
        "    False positive - Um bom pagador é identificado como sendo um mau pagador.\n",
        "    False negative - Um mau pagador é identificado como sendo um bom pagador."
      ]
    },
    {
      "cell_type": "code",
      "execution_count": 70,
      "metadata": {},
      "outputs": [],
      "source": [
        "# Import all necessary libraries\n",
        "import mlflow"
      ]
    },
    {
      "cell_type": "code",
      "execution_count": 71,
      "metadata": {
        "id": "Z4MjCm3SoTXV"
      },
      "outputs": [],
      "source": [
        "import pandas as pd\n",
        "import numpy as np\n",
        "import matplotlib.pyplot as plt\n",
        "from sklearn.metrics import  precision_recall_curve, roc_auc_score, confusion_matrix, accuracy_score, recall_score, precision_score, f1_score,auc, roc_curve\n",
        "import pandas as pd\n",
        "from sklearn.model_selection import train_test_split\n",
        "from sklearn.preprocessing import MinMaxScaler\n",
        "from sklearn.model_selection import GridSearchCV\n",
        "from sklearn.ensemble import RandomForestClassifier\n",
        "from sklearn.linear_model import LogisticRegression\n",
        "from sklearn.neighbors import KNeighborsClassifier\n",
        "from sklearn.svm import SVC\n",
        "from sklearn import tree\n",
        "from sklearn.linear_model import Perceptron\n",
        "from sklearn.neural_network import MLPClassifier\n",
        "from sklearn.pipeline import Pipeline"
      ]
    },
    {
      "cell_type": "code",
      "execution_count": 72,
      "metadata": {
        "colab": {
          "base_uri": "https://localhost:8080/",
          "height": 124
        },
        "id": "Y-MpSlfSoU8B",
        "outputId": "4b247912-e327-47ae-e366-a95f0888815d"
      },
      "outputs": [],
      "source": [
        "# Set the root path for data\n",
        "ROOT_PATH = '../data/'\n",
        "# Specify the target column name\n",
        "TARGET_COL = \"default.payment.next.month\"\n",
        "# Set the seed\n",
        "SEED = 42"
      ]
    },
    {
      "cell_type": "code",
      "execution_count": 73,
      "metadata": {},
      "outputs": [],
      "source": [
        "# Set the MLflow tracking URI to a SQLite database\n",
        "mlflow.set_tracking_uri(\"sqlite:///../../mlruns/mlflow.db\")"
      ]
    },
    {
      "cell_type": "code",
      "execution_count": 74,
      "metadata": {},
      "outputs": [
        {
          "data": {
            "text/plain": [
              "'sqlite:///../../mlruns/mlflow.db'"
            ]
          },
          "execution_count": 74,
          "metadata": {},
          "output_type": "execute_result"
        }
      ],
      "source": [
        "# Get the MLflow registry URI\n",
        "mlflow.get_registry_uri()"
      ]
    },
    {
      "cell_type": "code",
      "execution_count": 75,
      "metadata": {},
      "outputs": [
        {
          "data": {
            "text/plain": [
              "<Experiment: artifact_location='file:///c:/Users/asus/Desktop/ml-course/sample-project/rumos/rumos_bank/notebooks/../../mlruns/db', creation_time=1701261323218, experiment_id='9', last_update_time=1701261323218, lifecycle_stage='active', name='Rumos Bank Prediction Final Project', tags={}>"
            ]
          },
          "execution_count": 75,
          "metadata": {},
          "output_type": "execute_result"
        }
      ],
      "source": [
        "# Import necessary module\n",
        "from pathlib import Path\n",
        "# Define the artifact location path\n",
        "artifact_location = Path(\"../../mlruns/db\")\n",
        "\n",
        "# Create the folder '../../mlruns/db' if it doesn't exist\n",
        "artifact_location.mkdir(parents=True, exist_ok=True)\n",
        "# Specify the experiment name\n",
        "experiment_name = 'Rumos Bank Prediction Final Project'\n",
        "# Attempt to create the MLflow experiment with the specified name and artifact location\n",
        "try:\n",
        "    mlflow.create_experiment(name=experiment_name, artifact_location=artifact_location.as_posix())\n",
        "except mlflow.MlflowException:\n",
        "    # If the experiment already exists, catch the exception and proceed\n",
        "    pass\n",
        "# Set the active MLflow experiment to the specified experiment name\n",
        "mlflow.set_experiment(experiment_name=experiment_name)"
      ]
    },
    {
      "cell_type": "code",
      "execution_count": 76,
      "metadata": {},
      "outputs": [
        {
          "data": {
            "text/plain": [
              "<ActiveRun: >"
            ]
          },
          "execution_count": 76,
          "metadata": {},
          "output_type": "execute_result"
        }
      ],
      "source": [
        "# Start a new MLflow run\n",
        "mlflow.start_run(run_name=\"Rumos Bank Random Forest\")"
      ]
    },
    {
      "cell_type": "code",
      "execution_count": 77,
      "metadata": {
        "id": "X9ipTbvyoTXX"
      },
      "outputs": [],
      "source": [
        "# Define the path to the lending data CSV file\n",
        "df_path = ROOT_PATH + 'lending_data.csv'\n",
        "# Define the path to the lending data CSV file\n",
        "df_set = pd.read_csv(df_path)"
      ]
    },
    {
      "cell_type": "code",
      "execution_count": 78,
      "metadata": {
        "colab": {
          "base_uri": "https://localhost:8080/",
          "height": 35
        },
        "id": "12BupRYpoTXZ",
        "outputId": "65933b5b-971b-45cc-c709-8ad6fadf5292"
      },
      "outputs": [
        {
          "data": {
            "text/plain": [
              "(30000, 25)"
            ]
          },
          "execution_count": 78,
          "metadata": {},
          "output_type": "execute_result"
        }
      ],
      "source": [
        "# Display the shape of the DataFrame\n",
        "df_set.shape"
      ]
    },
    {
      "cell_type": "code",
      "execution_count": 79,
      "metadata": {
        "colab": {
          "base_uri": "https://localhost:8080/",
          "height": 222
        },
        "id": "Mp3_eARGoTXd",
        "outputId": "8c403771-8569-42b2-b140-3536b40f79fb"
      },
      "outputs": [
        {
          "data": {
            "text/html": [
              "<div>\n",
              "<style scoped>\n",
              "    .dataframe tbody tr th:only-of-type {\n",
              "        vertical-align: middle;\n",
              "    }\n",
              "\n",
              "    .dataframe tbody tr th {\n",
              "        vertical-align: top;\n",
              "    }\n",
              "\n",
              "    .dataframe thead th {\n",
              "        text-align: right;\n",
              "    }\n",
              "</style>\n",
              "<table border=\"1\" class=\"dataframe\">\n",
              "  <thead>\n",
              "    <tr style=\"text-align: right;\">\n",
              "      <th></th>\n",
              "      <th>ID</th>\n",
              "      <th>LIMIT_BAL</th>\n",
              "      <th>SEX</th>\n",
              "      <th>EDUCATION</th>\n",
              "      <th>MARRIAGE</th>\n",
              "      <th>AGE</th>\n",
              "      <th>PAY_0</th>\n",
              "      <th>PAY_2</th>\n",
              "      <th>PAY_3</th>\n",
              "      <th>PAY_4</th>\n",
              "      <th>...</th>\n",
              "      <th>BILL_AMT4</th>\n",
              "      <th>BILL_AMT5</th>\n",
              "      <th>BILL_AMT6</th>\n",
              "      <th>PAY_AMT1</th>\n",
              "      <th>PAY_AMT2</th>\n",
              "      <th>PAY_AMT3</th>\n",
              "      <th>PAY_AMT4</th>\n",
              "      <th>PAY_AMT5</th>\n",
              "      <th>PAY_AMT6</th>\n",
              "      <th>default.payment.next.month</th>\n",
              "    </tr>\n",
              "  </thead>\n",
              "  <tbody>\n",
              "    <tr>\n",
              "      <th>0</th>\n",
              "      <td>1</td>\n",
              "      <td>20000.0</td>\n",
              "      <td>2</td>\n",
              "      <td>2</td>\n",
              "      <td>1</td>\n",
              "      <td>24</td>\n",
              "      <td>2</td>\n",
              "      <td>2</td>\n",
              "      <td>-1</td>\n",
              "      <td>-1</td>\n",
              "      <td>...</td>\n",
              "      <td>0.0</td>\n",
              "      <td>0.0</td>\n",
              "      <td>0.0</td>\n",
              "      <td>0.0</td>\n",
              "      <td>689.0</td>\n",
              "      <td>0.0</td>\n",
              "      <td>0.0</td>\n",
              "      <td>0.0</td>\n",
              "      <td>0.0</td>\n",
              "      <td>1</td>\n",
              "    </tr>\n",
              "    <tr>\n",
              "      <th>1</th>\n",
              "      <td>2</td>\n",
              "      <td>120000.0</td>\n",
              "      <td>2</td>\n",
              "      <td>2</td>\n",
              "      <td>2</td>\n",
              "      <td>26</td>\n",
              "      <td>-1</td>\n",
              "      <td>2</td>\n",
              "      <td>0</td>\n",
              "      <td>0</td>\n",
              "      <td>...</td>\n",
              "      <td>3272.0</td>\n",
              "      <td>3455.0</td>\n",
              "      <td>3261.0</td>\n",
              "      <td>0.0</td>\n",
              "      <td>1000.0</td>\n",
              "      <td>1000.0</td>\n",
              "      <td>1000.0</td>\n",
              "      <td>0.0</td>\n",
              "      <td>2000.0</td>\n",
              "      <td>1</td>\n",
              "    </tr>\n",
              "    <tr>\n",
              "      <th>2</th>\n",
              "      <td>3</td>\n",
              "      <td>90000.0</td>\n",
              "      <td>2</td>\n",
              "      <td>2</td>\n",
              "      <td>2</td>\n",
              "      <td>34</td>\n",
              "      <td>0</td>\n",
              "      <td>0</td>\n",
              "      <td>0</td>\n",
              "      <td>0</td>\n",
              "      <td>...</td>\n",
              "      <td>14331.0</td>\n",
              "      <td>14948.0</td>\n",
              "      <td>15549.0</td>\n",
              "      <td>1518.0</td>\n",
              "      <td>1500.0</td>\n",
              "      <td>1000.0</td>\n",
              "      <td>1000.0</td>\n",
              "      <td>1000.0</td>\n",
              "      <td>5000.0</td>\n",
              "      <td>0</td>\n",
              "    </tr>\n",
              "    <tr>\n",
              "      <th>3</th>\n",
              "      <td>4</td>\n",
              "      <td>50000.0</td>\n",
              "      <td>2</td>\n",
              "      <td>2</td>\n",
              "      <td>1</td>\n",
              "      <td>37</td>\n",
              "      <td>0</td>\n",
              "      <td>0</td>\n",
              "      <td>0</td>\n",
              "      <td>0</td>\n",
              "      <td>...</td>\n",
              "      <td>28314.0</td>\n",
              "      <td>28959.0</td>\n",
              "      <td>29547.0</td>\n",
              "      <td>2000.0</td>\n",
              "      <td>2019.0</td>\n",
              "      <td>1200.0</td>\n",
              "      <td>1100.0</td>\n",
              "      <td>1069.0</td>\n",
              "      <td>1000.0</td>\n",
              "      <td>0</td>\n",
              "    </tr>\n",
              "    <tr>\n",
              "      <th>4</th>\n",
              "      <td>5</td>\n",
              "      <td>50000.0</td>\n",
              "      <td>1</td>\n",
              "      <td>2</td>\n",
              "      <td>1</td>\n",
              "      <td>57</td>\n",
              "      <td>-1</td>\n",
              "      <td>0</td>\n",
              "      <td>-1</td>\n",
              "      <td>0</td>\n",
              "      <td>...</td>\n",
              "      <td>20940.0</td>\n",
              "      <td>19146.0</td>\n",
              "      <td>19131.0</td>\n",
              "      <td>2000.0</td>\n",
              "      <td>36681.0</td>\n",
              "      <td>10000.0</td>\n",
              "      <td>9000.0</td>\n",
              "      <td>689.0</td>\n",
              "      <td>679.0</td>\n",
              "      <td>0</td>\n",
              "    </tr>\n",
              "  </tbody>\n",
              "</table>\n",
              "<p>5 rows × 25 columns</p>\n",
              "</div>"
            ],
            "text/plain": [
              "   ID  LIMIT_BAL  SEX  EDUCATION  MARRIAGE  AGE  PAY_0  PAY_2  PAY_3  PAY_4  \\\n",
              "0   1    20000.0    2          2         1   24      2      2     -1     -1   \n",
              "1   2   120000.0    2          2         2   26     -1      2      0      0   \n",
              "2   3    90000.0    2          2         2   34      0      0      0      0   \n",
              "3   4    50000.0    2          2         1   37      0      0      0      0   \n",
              "4   5    50000.0    1          2         1   57     -1      0     -1      0   \n",
              "\n",
              "   ...  BILL_AMT4  BILL_AMT5  BILL_AMT6  PAY_AMT1  PAY_AMT2  PAY_AMT3  \\\n",
              "0  ...        0.0        0.0        0.0       0.0     689.0       0.0   \n",
              "1  ...     3272.0     3455.0     3261.0       0.0    1000.0    1000.0   \n",
              "2  ...    14331.0    14948.0    15549.0    1518.0    1500.0    1000.0   \n",
              "3  ...    28314.0    28959.0    29547.0    2000.0    2019.0    1200.0   \n",
              "4  ...    20940.0    19146.0    19131.0    2000.0   36681.0   10000.0   \n",
              "\n",
              "   PAY_AMT4  PAY_AMT5  PAY_AMT6  default.payment.next.month  \n",
              "0       0.0       0.0       0.0                           1  \n",
              "1    1000.0       0.0    2000.0                           1  \n",
              "2    1000.0    1000.0    5000.0                           0  \n",
              "3    1100.0    1069.0    1000.0                           0  \n",
              "4    9000.0     689.0     679.0                           0  \n",
              "\n",
              "[5 rows x 25 columns]"
            ]
          },
          "execution_count": 79,
          "metadata": {},
          "output_type": "execute_result"
        }
      ],
      "source": [
        "df_set.head()"
      ]
    },
    {
      "cell_type": "code",
      "execution_count": 80,
      "metadata": {
        "colab": {
          "base_uri": "https://localhost:8080/",
          "height": 35
        },
        "id": "0lJt8GJcoTXk",
        "outputId": "dd54489b-beb1-44b3-ae4b-9741da84dfdd"
      },
      "outputs": [
        {
          "data": {
            "text/plain": [
              "30000"
            ]
          },
          "execution_count": 80,
          "metadata": {},
          "output_type": "execute_result"
        }
      ],
      "source": [
        "# Get the number of unique values in the 'ID' column\n",
        "df_set.ID.nunique()"
      ]
    },
    {
      "cell_type": "markdown",
      "metadata": {
        "id": "sqAFRENhoTXm"
      },
      "source": [
        "#### 1. Quantas features estão disponíveis? Quantos clientes?\n",
        "\n",
        "    - Existem 24 features disponíveis no dataset.\n",
        "    - Existem 30000 clientes."
      ]
    },
    {
      "cell_type": "markdown",
      "metadata": {
        "id": "3YbHArONoTXn"
      },
      "source": [
        "Existem missing values?"
      ]
    },
    {
      "cell_type": "code",
      "execution_count": 81,
      "metadata": {
        "colab": {
          "base_uri": "https://localhost:8080/",
          "height": 35
        },
        "id": "BQ6pba_toTXn",
        "outputId": "21213044-1145-47f8-b782-aa960d4b6423"
      },
      "outputs": [
        {
          "data": {
            "text/plain": [
              "False"
            ]
          },
          "execution_count": 81,
          "metadata": {},
          "output_type": "execute_result"
        }
      ],
      "source": [
        "# Check if there are any missing values\n",
        "df_set.isnull().values.any()"
      ]
    },
    {
      "cell_type": "markdown",
      "metadata": {
        "id": "sxP492KgoTXp"
      },
      "source": [
        "Existem o mesmo número de clientes nas duas classes?"
      ]
    },
    {
      "cell_type": "code",
      "execution_count": 82,
      "metadata": {
        "colab": {
          "base_uri": "https://localhost:8080/",
          "height": 87
        },
        "id": "GmTJYjZIoTXq",
        "outputId": "9fe95444-71ac-4f20-81fe-05cd14980f72"
      },
      "outputs": [
        {
          "data": {
            "text/plain": [
              "default.payment.next.month\n",
              "0    23364\n",
              "1     6636\n",
              "Name: default.payment.next.month, dtype: int64"
            ]
          },
          "execution_count": 82,
          "metadata": {},
          "output_type": "execute_result"
        }
      ],
      "source": [
        "# Group the DataFrame by the 'default.payment.next.month' column and count the occurrences of each group\n",
        "df_set.groupby('default.payment.next.month')['default.payment.next.month'].count()"
      ]
    },
    {
      "cell_type": "markdown",
      "metadata": {
        "id": "DBOZGu0MoTXs"
      },
      "source": [
        "Não! O dataset é altamente desequilibrado.\n",
        "\n",
        "#### 2. Quantos clientes têm no dataset que efectivamente foram maus pagadores? E quantos não foram?\n",
        "\n",
        "    - 23,364 foram bons pagadores. 6,636 foram maus pagadores."
      ]
    },
    {
      "cell_type": "markdown",
      "metadata": {
        "id": "-0L7ahP1oTXt"
      },
      "source": [
        "Existem features não númericas?"
      ]
    },
    {
      "cell_type": "code",
      "execution_count": 83,
      "metadata": {
        "colab": {
          "base_uri": "https://localhost:8080/",
          "height": 468
        },
        "id": "rei2UvwboTXu",
        "outputId": "d9a0fa2d-ed30-48ff-e479-7de51bcf2234"
      },
      "outputs": [
        {
          "data": {
            "text/plain": [
              "ID                              int64\n",
              "LIMIT_BAL                     float64\n",
              "SEX                             int64\n",
              "EDUCATION                       int64\n",
              "MARRIAGE                        int64\n",
              "AGE                             int64\n",
              "PAY_0                           int64\n",
              "PAY_2                           int64\n",
              "PAY_3                           int64\n",
              "PAY_4                           int64\n",
              "PAY_5                           int64\n",
              "PAY_6                           int64\n",
              "BILL_AMT1                     float64\n",
              "BILL_AMT2                     float64\n",
              "BILL_AMT3                     float64\n",
              "BILL_AMT4                     float64\n",
              "BILL_AMT5                     float64\n",
              "BILL_AMT6                     float64\n",
              "PAY_AMT1                      float64\n",
              "PAY_AMT2                      float64\n",
              "PAY_AMT3                      float64\n",
              "PAY_AMT4                      float64\n",
              "PAY_AMT5                      float64\n",
              "PAY_AMT6                      float64\n",
              "default.payment.next.month      int64\n",
              "dtype: object"
            ]
          },
          "execution_count": 83,
          "metadata": {},
          "output_type": "execute_result"
        }
      ],
      "source": [
        "# Display the data types of each column\n",
        "df_set.dtypes"
      ]
    },
    {
      "cell_type": "markdown",
      "metadata": {
        "id": "6lv_holtoTXx"
      },
      "source": [
        "Todas as features são númericas.\n",
        "\n",
        "Vamos retirar o ID do cliente:"
      ]
    },
    {
      "cell_type": "code",
      "execution_count": 84,
      "metadata": {
        "id": "bS6_8IecoTXx"
      },
      "outputs": [],
      "source": [
        "# Create a new DataFrame 'df' by dropping the 'ID' column from 'df_set'\n",
        "df = df_set.drop('ID', axis = 1)"
      ]
    },
    {
      "cell_type": "markdown",
      "metadata": {
        "id": "1nNKn5KeoTXz"
      },
      "source": [
        "Vamos então dividir o dataset em treino e teste:"
      ]
    },
    {
      "cell_type": "code",
      "execution_count": 85,
      "metadata": {
        "id": "cjfA10IboTX0"
      },
      "outputs": [],
      "source": [
        "# Split the DataFrame 'df' into training and testing sets using train_test_split\n",
        "train_set, test_set = train_test_split(df, test_size = 0.2, random_state = SEED)"
      ]
    },
    {
      "cell_type": "code",
      "execution_count": 86,
      "metadata": {},
      "outputs": [],
      "source": [
        "# Define file paths for the training and testing sets\n",
        "train_path = ROOT_PATH + 'lending_train.csv'\n",
        "test_path = ROOT_PATH + 'lending_test.csv'"
      ]
    },
    {
      "cell_type": "code",
      "execution_count": 87,
      "metadata": {},
      "outputs": [],
      "source": [
        "# Save the training and testing sets to CSV files\n",
        "train_set.to_csv('lending_train.csv', index=False)\n",
        "test_set.to_csv('lending_test.csv', index=False)"
      ]
    },
    {
      "cell_type": "code",
      "execution_count": 88,
      "metadata": {},
      "outputs": [],
      "source": [
        "# Read the training and testing sets from the saved CSV files\n",
        "train_set = pd.read_csv('lending_train.csv')\n",
        "test_set = pd.read_csv('lending_test.csv')"
      ]
    },
    {
      "cell_type": "code",
      "execution_count": 89,
      "metadata": {},
      "outputs": [
        {
          "name": "stderr",
          "output_type": "stream",
          "text": [
            "c:\\Users\\asus\\miniconda3\\envs\\rumos-class-oml\\lib\\site-packages\\mlflow\\data\\dataset_source_registry.py:143: UserWarning: The specified dataset source can be interpreted in multiple ways: LocalArtifactDatasetSource, LocalArtifactDatasetSource. MLflow will assume that this is a LocalArtifactDatasetSource source.\n",
            "  return _dataset_source_registry.resolve(\n",
            "c:\\Users\\asus\\miniconda3\\envs\\rumos-class-oml\\lib\\site-packages\\mlflow\\data\\digest_utils.py:26: FutureWarning: DataFrame.applymap has been deprecated. Use DataFrame.map instead.\n",
            "  string_columns = trimmed_df.columns[(df.applymap(type) == str).all(0)]\n",
            "c:\\Users\\asus\\miniconda3\\envs\\rumos-class-oml\\lib\\site-packages\\mlflow\\data\\dataset_source_registry.py:143: UserWarning: The specified dataset source can be interpreted in multiple ways: LocalArtifactDatasetSource, LocalArtifactDatasetSource. MLflow will assume that this is a LocalArtifactDatasetSource source.\n",
            "  return _dataset_source_registry.resolve(\n",
            "c:\\Users\\asus\\miniconda3\\envs\\rumos-class-oml\\lib\\site-packages\\mlflow\\data\\digest_utils.py:26: FutureWarning: DataFrame.applymap has been deprecated. Use DataFrame.map instead.\n",
            "  string_columns = trimmed_df.columns[(df.applymap(type) == str).all(0)]\n"
          ]
        }
      ],
      "source": [
        "# Create MLflow datasets from Pandas DataFrames for training and testing sets\n",
        "train_dataset = mlflow.data.from_pandas(train_set, source=train_path, targets=TARGET_COL, name=\"Lending Train Dataset\")\n",
        "test_dataset = mlflow.data.from_pandas(test_set, source=test_path, targets=TARGET_COL, name=\"Lending Test Dataset\")"
      ]
    },
    {
      "cell_type": "code",
      "execution_count": 90,
      "metadata": {},
      "outputs": [
        {
          "data": {
            "text/plain": [
              "42"
            ]
          },
          "execution_count": 90,
          "metadata": {},
          "output_type": "execute_result"
        }
      ],
      "source": [
        "# Log the seed parameter used in the experiment\n",
        "\n",
        "mlflow.log_param(\"seed\", SEED)"
      ]
    },
    {
      "cell_type": "code",
      "execution_count": 91,
      "metadata": {},
      "outputs": [
        {
          "name": "stderr",
          "output_type": "stream",
          "text": [
            "c:\\Users\\asus\\miniconda3\\envs\\rumos-class-oml\\lib\\site-packages\\mlflow\\data\\pandas_dataset.py:116: UserWarning: Hint: Inferred schema contains integer column(s). Integer columns in Python cannot represent missing values. If your input data contains missing values at inference time, it will be encoded as floats and will cause a schema enforcement error. The best way to avoid this problem is to infer the model schema based on a realistic data sample (training dataset) that includes missing values. Alternatively, you can declare integer columns as doubles (float64) whenever these columns may have missing values. See `Handling Integers With Missing Values <https://www.mlflow.org/docs/latest/models.html#handling-integers-with-missing-values>`_ for more details.\n",
            "  return _infer_schema(self._df)\n"
          ]
        }
      ],
      "source": [
        "# Log the training and testing datasets as inputs in the \"train\" and \"test\" contexts\n",
        "mlflow.log_input(train_dataset, context = \"train\")\n",
        "mlflow.log_input(test_dataset, context = \"test\")"
      ]
    },
    {
      "cell_type": "code",
      "execution_count": 92,
      "metadata": {
        "id": "-6k8pIbEoTX2"
      },
      "outputs": [],
      "source": [
        "# Separate features and target variable for training set\n",
        "X_train = train_set.drop([TARGET_COL], axis = 'columns')\n",
        "y_train = train_set[TARGET_COL]\n",
        "# Separate features and target variable for testing set\n",
        "X_test = test_set.drop([TARGET_COL], axis = 1)\n",
        "y_test = test_set[TARGET_COL]"
      ]
    },
    {
      "cell_type": "markdown",
      "metadata": {
        "id": "4PBykJJpoTX7"
      },
      "source": [
        "Antes de iniciar, vamos calcular a baseline, ou seja, o custo que temos sem nenhum modelo.\n",
        "\n",
        "$$totalCost = 1000∗FP+3000∗FN$$"
      ]
    },
    {
      "cell_type": "code",
      "execution_count": 93,
      "metadata": {
        "id": "AKL-L-7moTX7"
      },
      "outputs": [],
      "source": [
        "# Create an array of predicted labels, assuming all predictions are \"bad\" (1)\n",
        "y_preds_all_bad = np.ones(y_test.shape) "
      ]
    },
    {
      "cell_type": "code",
      "execution_count": 94,
      "metadata": {
        "colab": {
          "base_uri": "https://localhost:8080/",
          "height": 87
        },
        "id": "2UyI8OkVoTX-",
        "outputId": "2e853506-14ca-4165-d945-eee653eb97da"
      },
      "outputs": [
        {
          "name": "stdout",
          "output_type": "stream",
          "text": [
            "Number of True Negatives: 0\n",
            "Number of True Positives: 1313\n",
            "Number of False Negatives: 0\n",
            "Number of False Positives: 4687\n"
          ]
        }
      ],
      "source": [
        "# Calculate and print the elements of the confusion matrix\n",
        "tn, fp, fn, tp = confusion_matrix(y_test, y_preds_all_bad).ravel()\n",
        "\n",
        "print('Number of True Negatives:', tn)\n",
        "print('Number of True Positives:', tp)\n",
        "print('Number of False Negatives:', fn)\n",
        "print('Number of False Positives:', fp)"
      ]
    },
    {
      "cell_type": "code",
      "execution_count": 95,
      "metadata": {
        "colab": {
          "base_uri": "https://localhost:8080/",
          "height": 35
        },
        "id": "Wojzq6oDoTYB",
        "outputId": "a8319123-54ab-4237-fb86-3a512e066acb"
      },
      "outputs": [
        {
          "name": "stdout",
          "output_type": "stream",
          "text": [
            "Total Cost: 4687000\n"
          ]
        }
      ],
      "source": [
        "# Calculate and print the total cost based on the number of False Positives\n",
        "print('Total Cost:', fp*1000)"
      ]
    },
    {
      "cell_type": "code",
      "execution_count": 96,
      "metadata": {
        "colab": {
          "base_uri": "https://localhost:8080/",
          "height": 35
        },
        "id": "MWa7w4BZoTYE",
        "outputId": "80964cf4-34de-4fdc-ae02-eace4973d724"
      },
      "outputs": [
        {
          "data": {
            "text/plain": [
              "0.21883333333333332"
            ]
          },
          "execution_count": 96,
          "metadata": {},
          "output_type": "execute_result"
        }
      ],
      "source": [
        "# Calculate and print the accuracy score\n",
        "accuracy_score(y_test, y_preds_all_bad)"
      ]
    },
    {
      "cell_type": "markdown",
      "metadata": {
        "id": "adm4iMnooTYH"
      },
      "source": [
        "Se todos os clientes fossem considerados como maus pagadores, o banco teria um custo de 4,687,000 Euros."
      ]
    },
    {
      "cell_type": "code",
      "execution_count": 97,
      "metadata": {
        "colab": {
          "base_uri": "https://localhost:8080/",
          "height": 87
        },
        "id": "qljaMtZmoTYI",
        "outputId": "21519186-ac27-47ba-bed6-3303e2e907cd"
      },
      "outputs": [
        {
          "name": "stdout",
          "output_type": "stream",
          "text": [
            "Number of True Negatives: 4687\n",
            "Number of True Positives: 0\n",
            "Number of False Negatives: 1313\n",
            "Number of False Positives: 0\n"
          ]
        }
      ],
      "source": [
        "# Create an array of predicted labels, assuming all predictions are \"good\" (0)\n",
        "y_preds_all_good = np.zeros(y_test.shape) \n",
        "# Calculate and print the elements of the confusion matrix\n",
        "tn, fp, fn, tp = confusion_matrix(y_test, y_preds_all_good).ravel()\n",
        "\n",
        "print('Number of True Negatives:', tn)\n",
        "print('Number of True Positives:', tp)\n",
        "print('Number of False Negatives:', fn)\n",
        "print('Number of False Positives:', fp)"
      ]
    },
    {
      "cell_type": "code",
      "execution_count": 98,
      "metadata": {
        "colab": {
          "base_uri": "https://localhost:8080/",
          "height": 35
        },
        "id": "BL5U0I2xoTYL",
        "outputId": "289f031d-c9b4-4b25-d640-eb5e234884cf"
      },
      "outputs": [],
      "source": [
        "# Calculate the total cost based on the number of False Negatives\n",
        "total_cost_baseline =  fn*3000"
      ]
    },
    {
      "cell_type": "code",
      "execution_count": 99,
      "metadata": {},
      "outputs": [
        {
          "data": {
            "text/plain": [
              "3939000"
            ]
          },
          "execution_count": 99,
          "metadata": {},
          "output_type": "execute_result"
        }
      ],
      "source": [
        "total_cost_baseline"
      ]
    },
    {
      "cell_type": "code",
      "execution_count": 100,
      "metadata": {},
      "outputs": [],
      "source": [
        "mlflow.log_metric(\"total_cost_baseline\", total_cost_baseline)"
      ]
    },
    {
      "cell_type": "code",
      "execution_count": 101,
      "metadata": {
        "colab": {
          "base_uri": "https://localhost:8080/",
          "height": 35
        },
        "id": "BsF5qd42oTYO",
        "outputId": "23f39bfc-63b6-495d-ccba-964af157aa63"
      },
      "outputs": [],
      "source": [
        "# Calculate the accuracy score\n",
        "score_baseline = accuracy_score(y_test, y_preds_all_good)"
      ]
    },
    {
      "cell_type": "code",
      "execution_count": 102,
      "metadata": {},
      "outputs": [
        {
          "data": {
            "text/plain": [
              "0.7811666666666667"
            ]
          },
          "execution_count": 102,
          "metadata": {},
          "output_type": "execute_result"
        }
      ],
      "source": [
        "score_baseline"
      ]
    },
    {
      "cell_type": "code",
      "execution_count": 103,
      "metadata": {},
      "outputs": [],
      "source": [
        "mlflow.log_metric(\"score_baseline\", score_baseline)"
      ]
    },
    {
      "cell_type": "markdown",
      "metadata": {
        "id": "mFTIDzoxoTYQ"
      },
      "source": [
        "Se todos os clientes fossem considerados bons pagadores, o banco teria um custo de 3,939,000 Euros."
      ]
    },
    {
      "cell_type": "code",
      "execution_count": 104,
      "metadata": {
        "id": "rM-AwWw_oTYQ"
      },
      "outputs": [],
      "source": [
        "# Define a function to calculate total cost based on the confusion matrix\n",
        "def total_cost(y_test, y_preds, threshold = 0.5):\n",
        "    \n",
        "    tn, fp, fn, tp = confusion_matrix(y_test == 1, y_preds > threshold).ravel()\n",
        "    \n",
        "    cost_fn = fn*3000\n",
        "    cost_fp = fp*1000\n",
        "    \n",
        "    return cost_fn + cost_fp\n",
        "    "
      ]
    },
    {
      "cell_type": "code",
      "execution_count": 105,
      "metadata": {
        "id": "TqKsBVjNoTYS"
      },
      "outputs": [],
      "source": [
        "# Define a function to find the threshold with the minimum cost\n",
        "def min_cost_threshold(y_test, y_preds):\n",
        "    \n",
        "    costs = {}\n",
        "    # Iterate over thresholds from 0 to 1 with a step of 0.1\n",
        "    for threshold in np.arange(0, 1.1, 0.1):\n",
        "        \n",
        "        costs[round(threshold, 1)] = total_cost(y_test, y_preds, threshold = threshold)\n",
        "\n",
        "     # Plot the costs at different thresholds    \n",
        "    plt.plot(list(costs.keys()), list(costs.values()))\n",
        "    plt.ylabel('Cost')\n",
        "    plt.xlabel('Threshold')\n",
        "    plt.show()\n",
        "    "
      ]
    },
    {
      "cell_type": "markdown",
      "metadata": {
        "id": "1t0TwGgGoTX4"
      },
      "source": [
        "#### Model Pipeline"
      ]
    },
    {
      "cell_type": "markdown",
      "metadata": {
        "id": "onKHTak6oTZY"
      },
      "source": [
        "#### Random Forests"
      ]
    },
    {
      "cell_type": "code",
      "execution_count": 106,
      "metadata": {
        "id": "ymFXEgshoTZY",
        "outputId": "c7298f96-1db1-43ca-80e1-55847007e767"
      },
      "outputs": [],
      "source": [
        "# Define the name and hyperparameters for the Random Forest model\n",
        "model_name_rf = \"random_forest\"\n",
        "\n",
        "parameters_rf = {'rf__n_estimators':[10, 100, 300, 1000]}"
      ]
    },
    {
      "cell_type": "code",
      "execution_count": 107,
      "metadata": {},
      "outputs": [],
      "source": [
        "# Create a pipeline for the Random Forest model\n",
        "pipeline_rf = Pipeline([\n",
        "    ('scaler', MinMaxScaler()),\n",
        "    ('rf', RandomForestClassifier(random_state = SEED,  class_weight = 'balanced'))\n",
        "])\n"
      ]
    },
    {
      "cell_type": "code",
      "execution_count": 108,
      "metadata": {},
      "outputs": [
        {
          "data": {
            "text/plain": [
              "'random_forest'"
            ]
          },
          "execution_count": 108,
          "metadata": {},
          "output_type": "execute_result"
        }
      ],
      "source": [
        "# Log the Random Forest model name as a parameter in MLflow\n",
        "mlflow.log_param(\"model_name_rf\", model_name_rf)"
      ]
    },
    {
      "cell_type": "code",
      "execution_count": 109,
      "metadata": {},
      "outputs": [],
      "source": [
        "# Use GridSearchCV to find the best hyperparameters for the Random Forest model\n",
        "clf_rf = GridSearchCV(pipeline_rf, parameters_rf, cv =5).fit(X_train, y_train)"
      ]
    },
    {
      "cell_type": "code",
      "execution_count": 110,
      "metadata": {},
      "outputs": [],
      "source": [
        "# Log the best hyperparameters found by GridSearchCV for the Random Forest model in MLflow\n",
        "mlflow.log_params(clf_rf.best_params_)"
      ]
    },
    {
      "cell_type": "code",
      "execution_count": 111,
      "metadata": {},
      "outputs": [
        {
          "name": "stderr",
          "output_type": "stream",
          "text": [
            "c:\\Users\\asus\\miniconda3\\envs\\rumos-class-oml\\lib\\site-packages\\_distutils_hack\\__init__.py:18: UserWarning: Distutils was imported before Setuptools, but importing Setuptools also replaces the `distutils` module in `sys.modules`. This may lead to undesirable behaviors or errors. To avoid these issues, avoid using distutils directly, ensure that setuptools is installed in the traditional way (e.g. not an editable install), and/or make sure that setuptools is always imported before distutils.\n",
            "  warnings.warn(\n",
            "c:\\Users\\asus\\miniconda3\\envs\\rumos-class-oml\\lib\\site-packages\\_distutils_hack\\__init__.py:33: UserWarning: Setuptools is replacing distutils.\n",
            "  warnings.warn(\"Setuptools is replacing distutils.\")\n"
          ]
        },
        {
          "data": {
            "text/plain": [
              "<mlflow.models.model.ModelInfo at 0x215cd127820>"
            ]
          },
          "execution_count": 111,
          "metadata": {},
          "output_type": "execute_result"
        }
      ],
      "source": [
        "# Log the best-performing Random Forest model using MLflow\n",
        "mlflow.sklearn.log_model(clf_rf, artifact_path=\"grid_search_cv_rf\")"
      ]
    },
    {
      "cell_type": "code",
      "execution_count": 112,
      "metadata": {},
      "outputs": [],
      "source": [
        "# Extract the best-performing Random Forest pipeline from the GridSearchCV result\n",
        "tunned_rf_pipeline = clf_rf.best_estimator_"
      ]
    },
    {
      "cell_type": "code",
      "execution_count": 113,
      "metadata": {},
      "outputs": [
        {
          "name": "stderr",
          "output_type": "stream",
          "text": [
            "Successfully registered model 'random_forest'.\n",
            "2023/11/29 14:17:28 INFO mlflow.tracking._model_registry.client: Waiting up to 300 seconds for model version to finish creation. Model name: random_forest, version 1\n",
            "Created version '1' of model 'random_forest'.\n"
          ]
        },
        {
          "data": {
            "text/plain": [
              "<mlflow.models.model.ModelInfo at 0x21581a26d40>"
            ]
          },
          "execution_count": 113,
          "metadata": {},
          "output_type": "execute_result"
        }
      ],
      "source": [
        "# Log the tuned Random Forest pipeline as a registered model in MLflow\n",
        "mlflow.sklearn.log_model(tunned_rf_pipeline, \"tunned_rf_pipeline\", registered_model_name=\"random_forest\")"
      ]
    },
    {
      "cell_type": "code",
      "execution_count": 114,
      "metadata": {},
      "outputs": [
        {
          "data": {
            "text/plain": [
              "{'memory': None,\n",
              " 'steps': [('scaler', MinMaxScaler()),\n",
              "  ('rf',\n",
              "   RandomForestClassifier(class_weight='balanced', n_estimators=1000,\n",
              "                          random_state=42))],\n",
              " 'verbose': False,\n",
              " 'scaler': MinMaxScaler(),\n",
              " 'rf': RandomForestClassifier(class_weight='balanced', n_estimators=1000,\n",
              "                        random_state=42),\n",
              " 'scaler__clip': False,\n",
              " 'scaler__copy': True,\n",
              " 'scaler__feature_range': (0, 1),\n",
              " 'rf__bootstrap': True,\n",
              " 'rf__ccp_alpha': 0.0,\n",
              " 'rf__class_weight': 'balanced',\n",
              " 'rf__criterion': 'gini',\n",
              " 'rf__max_depth': None,\n",
              " 'rf__max_features': 'sqrt',\n",
              " 'rf__max_leaf_nodes': None,\n",
              " 'rf__max_samples': None,\n",
              " 'rf__min_impurity_decrease': 0.0,\n",
              " 'rf__min_samples_leaf': 1,\n",
              " 'rf__min_samples_split': 2,\n",
              " 'rf__min_weight_fraction_leaf': 0.0,\n",
              " 'rf__n_estimators': 1000,\n",
              " 'rf__n_jobs': None,\n",
              " 'rf__oob_score': False,\n",
              " 'rf__random_state': 42,\n",
              " 'rf__verbose': 0,\n",
              " 'rf__warm_start': False}"
            ]
          },
          "execution_count": 114,
          "metadata": {},
          "output_type": "execute_result"
        }
      ],
      "source": [
        "# Get the parameters of the tuned Random Forest pipeline\n",
        "tunned_rf_pipeline.get_params()"
      ]
    },
    {
      "cell_type": "code",
      "execution_count": 115,
      "metadata": {},
      "outputs": [],
      "source": [
        "# Calculate the accuracy score of the tuned Random Forest model on the test set\n",
        "score_rf = clf_rf.score(X_test, y_test)"
      ]
    },
    {
      "cell_type": "code",
      "execution_count": 116,
      "metadata": {},
      "outputs": [
        {
          "data": {
            "text/plain": [
              "0.817"
            ]
          },
          "execution_count": 116,
          "metadata": {},
          "output_type": "execute_result"
        }
      ],
      "source": [
        "score_rf"
      ]
    },
    {
      "cell_type": "code",
      "execution_count": 117,
      "metadata": {},
      "outputs": [],
      "source": [
        "# Log score as a metric in MLflow\n",
        "mlflow.log_metric(\"score_rf\", score_rf)\n"
      ]
    },
    {
      "cell_type": "code",
      "execution_count": 118,
      "metadata": {},
      "outputs": [],
      "source": [
        "y_preds_rf = clf_rf.predict(X_test)"
      ]
    },
    {
      "cell_type": "code",
      "execution_count": 119,
      "metadata": {},
      "outputs": [
        {
          "data": {
            "image/png": "[encoded data removed]",
            "text/plain": [
              "<Figure size 640x480 with 2 Axes>"
            ]
          },
          "metadata": {},
          "output_type": "display_data"
        }
      ],
      "source": [
        "import seaborn as sns\n",
        "\n",
        "cm = confusion_matrix(y_test, y_preds_rf)\n",
        "sns.heatmap(cm, annot=True, fmt=\"d\", cmap=\"Oranges\")\n",
        "plt.xlabel(\"Predicted\")\n",
        "plt.ylabel(\"True\")\n",
        "plt.title(\"Confusion Matrix\")\n",
        "\n",
        "plt.savefig(\"confusion_matrix.png\")"
      ]
    },
    {
      "cell_type": "code",
      "execution_count": 120,
      "metadata": {},
      "outputs": [],
      "source": [
        "mlflow.log_artifact(\"confusion_matrix.png\")"
      ]
    },
    {
      "cell_type": "code",
      "execution_count": 121,
      "metadata": {},
      "outputs": [],
      "source": [
        "# Calculate precision, recall, F1 Score, and ROC-AUC\n",
        "precision = precision_score(y_test, y_preds_rf)\n",
        "recall = recall_score(y_test, y_preds_rf)\n",
        "f1 = f1_score(y_test, y_preds_rf)"
      ]
    },
    {
      "cell_type": "code",
      "execution_count": 122,
      "metadata": {},
      "outputs": [],
      "source": [
        "# Log precision, recall and f1 score\n",
        "mlflow.log_metric(\"precision\", precision)\n",
        "mlflow.log_metric(\"recall\", recall)\n",
        "mlflow.log_metric(\"f1_score\", f1)"
      ]
    },
    {
      "cell_type": "code",
      "execution_count": 123,
      "metadata": {},
      "outputs": [
        {
          "name": "stdout",
          "output_type": "stream",
          "text": [
            "Precision: 0.658321060382916\n",
            "Recall: 0.34044173648134046\n",
            "F1 Score: 0.4487951807228916\n"
          ]
        }
      ],
      "source": [
        "# Print the calculated metrics\n",
        "print(f'Precision: {precision}')\n",
        "print(f'Recall: {recall}')\n",
        "print(f'F1 Score: {f1}')"
      ]
    },
    {
      "cell_type": "markdown",
      "metadata": {},
      "source": [
        "Precision measures the accuracy of positive predictions, indicating that 66% of instances predicted as positive are correct.\n",
        "\n",
        "Recall is the ability of the model to correctly identify actual positive instances. Our model achieves a recall of around 34%, indicating that approximately 34% of the actual positive instances were successfully identified.\n",
        "\n",
        "The F1 Score provides a balanced assessment of the model's performance, considering both false positives and false negatives. Our model achieves an F1 Score of about 45%, indicating a reasonable balance between precision and recall.\n",
        "\n",
        "Regarding, confusion matrix: The high number of true negatives (4455) suggests a robust ability to correctly predict the negative class. However, the significant presence of false negatives (866) indicates that the model struggles to identify instances of the positive class, resulting in a relatively low recall. Additionally, the false positives (232) suggest a tendency to incorrectly predict the positive class in situations where the true class is negative, impacting the model's precision. This analysis highlights the importance of considering metrics such as precision and recall, in addition to accuracy, for a more comprehensive evaluation of the model's performance, especially in class-imbalanced scenarios."
      ]
    },
    {
      "cell_type": "code",
      "execution_count": 124,
      "metadata": {},
      "outputs": [],
      "source": [
        "#Calculate the precision-recall curve\n",
        "precision, recall, _ = precision_recall_curve(y_test, tunned_rf_pipeline.predict_proba(X_test)[:, 1])"
      ]
    },
    {
      "cell_type": "code",
      "execution_count": 125,
      "metadata": {},
      "outputs": [
        {
          "data": {
            "image/png": "[encoded data removed]",
            "text/plain": [
              "<Figure size 640x480 with 1 Axes>"
            ]
          },
          "metadata": {},
          "output_type": "display_data"
        }
      ],
      "source": [
        "# Plot the precision-recall curve\n",
        "\n",
        "pr_auc = auc(recall, precision)\n",
        "\n",
        "plt.plot(recall, precision, marker='.')\n",
        "plt.xlabel('Recall')\n",
        "plt.ylabel('Precision')\n",
        "plt.title(f'Curva Precision-Recall (AUC = {pr_auc:.2f})')\n",
        "\n",
        "plt.savefig(\"precision_recall_curve.png\")"
      ]
    },
    {
      "cell_type": "markdown",
      "metadata": {},
      "source": [
        "An AUC of 0.52 may indicate that the model struggles to balance precision and recall, possibly due to issues such as class imbalance."
      ]
    },
    {
      "cell_type": "code",
      "execution_count": 126,
      "metadata": {},
      "outputs": [],
      "source": [
        "mlflow.log_artifact(\"precision_recall_curve.png\")"
      ]
    },
    {
      "cell_type": "code",
      "execution_count": 127,
      "metadata": {},
      "outputs": [],
      "source": [
        "# Make probability predictions using the tuned Random Forest pipeline on the test set\n",
        "y_preds = tunned_rf_pipeline.predict_proba(X_test)[:,1]"
      ]
    },
    {
      "cell_type": "code",
      "execution_count": 128,
      "metadata": {},
      "outputs": [
        {
          "data": {
            "text/plain": [
              "2830000"
            ]
          },
          "execution_count": 128,
          "metadata": {},
          "output_type": "execute_result"
        }
      ],
      "source": [
        "# Calculate and print the total cost based on the tuned Random Forest predictions\n",
        "total_cost(y_test, y_preds, threshold = 0.5)"
      ]
    },
    {
      "cell_type": "code",
      "execution_count": 129,
      "metadata": {},
      "outputs": [
        {
          "data": {
            "image/png": "[encoded data removed]",
            "text/plain": [
              "<Figure size 640x480 with 1 Axes>"
            ]
          },
          "metadata": {},
          "output_type": "display_data"
        }
      ],
      "source": [
        "# Find and visualize the threshold with the minimum cost for the tuned Random Forest predictions\n",
        "min_cost_threshold(y_test, y_preds)"
      ]
    },
    {
      "cell_type": "code",
      "execution_count": 130,
      "metadata": {},
      "outputs": [],
      "source": [
        "# Calculate and store the total cost based on the tuned Random Forest predictions with a specific threshold\n",
        "total_cost_res_rf = total_cost(y_test, y_preds, threshold = 0.3)"
      ]
    },
    {
      "cell_type": "code",
      "execution_count": 131,
      "metadata": {},
      "outputs": [
        {
          "data": {
            "text/plain": [
              "2469000"
            ]
          },
          "execution_count": 131,
          "metadata": {},
          "output_type": "execute_result"
        }
      ],
      "source": [
        "total_cost_res_rf"
      ]
    },
    {
      "cell_type": "code",
      "execution_count": 132,
      "metadata": {},
      "outputs": [],
      "source": [
        "# Log the total cost as a metric in MLflow\n",
        "mlflow.log_metric(\"total_cost_rf\", total_cost_res_rf)"
      ]
    },
    {
      "cell_type": "markdown",
      "metadata": {
        "id": "nME9KFm5oTZi"
      },
      "source": [
        "Melhor resultado até agora!"
      ]
    },
    {
      "cell_type": "code",
      "execution_count": 133,
      "metadata": {},
      "outputs": [],
      "source": [
        "# Get feature importance from the tuned Random Forest pipeline and create a DataFrame\n",
        "feature_importance = tunned_rf_pipeline.named_steps['rf'].feature_importances_\n",
        "feature_importance_df = pd.DataFrame(data=feature_importance, index=X_train.columns, columns=['importance'])"
      ]
    },
    {
      "cell_type": "code",
      "execution_count": 134,
      "metadata": {},
      "outputs": [],
      "source": [
        "# Sort the DataFrame by feature importance in descending order\n",
        "feature_importance_df = feature_importance_df.sort_values(by='importance', ascending=False)"
      ]
    },
    {
      "cell_type": "code",
      "execution_count": 135,
      "metadata": {},
      "outputs": [],
      "source": [
        "# Save the feature importance DataFrame to a CSV file and log it as an artifact in MLflow\n",
        "feature_importance_csv_path = \"feature_importance.csv\"\n",
        "feature_importance_df.to_csv(feature_importance_csv_path)\n",
        "# Log the CSV file containing feature importance as an artifact in MLflow\n",
        "mlflow.log_artifact(feature_importance_csv_path, artifact_path=\"feature_importance\")"
      ]
    },
    {
      "cell_type": "code",
      "execution_count": 136,
      "metadata": {},
      "outputs": [],
      "source": [
        "# Log individual feature importance values as metrics in MLflow\n",
        "for feature, importance in zip(X_train.columns, feature_importance):\n",
        "    mlflow.log_metric(f\"feature_importance_{feature}\", importance)"
      ]
    },
    {
      "cell_type": "code",
      "execution_count": 137,
      "metadata": {},
      "outputs": [
        {
          "data": {
            "text/html": [
              "<div>\n",
              "<style scoped>\n",
              "    .dataframe tbody tr th:only-of-type {\n",
              "        vertical-align: middle;\n",
              "    }\n",
              "\n",
              "    .dataframe tbody tr th {\n",
              "        vertical-align: top;\n",
              "    }\n",
              "\n",
              "    .dataframe thead th {\n",
              "        text-align: right;\n",
              "    }\n",
              "</style>\n",
              "<table border=\"1\" class=\"dataframe\">\n",
              "  <thead>\n",
              "    <tr style=\"text-align: right;\">\n",
              "      <th></th>\n",
              "      <th>importance</th>\n",
              "    </tr>\n",
              "  </thead>\n",
              "  <tbody>\n",
              "    <tr>\n",
              "      <th>PAY_0</th>\n",
              "      <td>0.095137</td>\n",
              "    </tr>\n",
              "    <tr>\n",
              "      <th>LIMIT_BAL</th>\n",
              "      <td>0.063186</td>\n",
              "    </tr>\n",
              "    <tr>\n",
              "      <th>AGE</th>\n",
              "      <td>0.062380</td>\n",
              "    </tr>\n",
              "    <tr>\n",
              "      <th>BILL_AMT1</th>\n",
              "      <td>0.061780</td>\n",
              "    </tr>\n",
              "    <tr>\n",
              "      <th>BILL_AMT2</th>\n",
              "      <td>0.053742</td>\n",
              "    </tr>\n",
              "    <tr>\n",
              "      <th>PAY_AMT1</th>\n",
              "      <td>0.053538</td>\n",
              "    </tr>\n",
              "    <tr>\n",
              "      <th>PAY_AMT2</th>\n",
              "      <td>0.050958</td>\n",
              "    </tr>\n",
              "    <tr>\n",
              "      <th>BILL_AMT3</th>\n",
              "      <td>0.050431</td>\n",
              "    </tr>\n",
              "    <tr>\n",
              "      <th>BILL_AMT4</th>\n",
              "      <td>0.049255</td>\n",
              "    </tr>\n",
              "    <tr>\n",
              "      <th>BILL_AMT6</th>\n",
              "      <td>0.048846</td>\n",
              "    </tr>\n",
              "    <tr>\n",
              "      <th>BILL_AMT5</th>\n",
              "      <td>0.048520</td>\n",
              "    </tr>\n",
              "    <tr>\n",
              "      <th>PAY_AMT3</th>\n",
              "      <td>0.048478</td>\n",
              "    </tr>\n",
              "    <tr>\n",
              "      <th>PAY_AMT6</th>\n",
              "      <td>0.046917</td>\n",
              "    </tr>\n",
              "    <tr>\n",
              "      <th>PAY_AMT4</th>\n",
              "      <td>0.045881</td>\n",
              "    </tr>\n",
              "    <tr>\n",
              "      <th>PAY_AMT5</th>\n",
              "      <td>0.043380</td>\n",
              "    </tr>\n",
              "    <tr>\n",
              "      <th>PAY_2</th>\n",
              "      <td>0.043364</td>\n",
              "    </tr>\n",
              "    <tr>\n",
              "      <th>PAY_3</th>\n",
              "      <td>0.027357</td>\n",
              "    </tr>\n",
              "    <tr>\n",
              "      <th>PAY_4</th>\n",
              "      <td>0.024496</td>\n",
              "    </tr>\n",
              "    <tr>\n",
              "      <th>EDUCATION</th>\n",
              "      <td>0.020161</td>\n",
              "    </tr>\n",
              "    <tr>\n",
              "      <th>PAY_6</th>\n",
              "      <td>0.019353</td>\n",
              "    </tr>\n",
              "    <tr>\n",
              "      <th>PAY_5</th>\n",
              "      <td>0.018818</td>\n",
              "    </tr>\n",
              "    <tr>\n",
              "      <th>MARRIAGE</th>\n",
              "      <td>0.012797</td>\n",
              "    </tr>\n",
              "    <tr>\n",
              "      <th>SEX</th>\n",
              "      <td>0.011225</td>\n",
              "    </tr>\n",
              "  </tbody>\n",
              "</table>\n",
              "</div>"
            ],
            "text/plain": [
              "           importance\n",
              "PAY_0        0.095137\n",
              "LIMIT_BAL    0.063186\n",
              "AGE          0.062380\n",
              "BILL_AMT1    0.061780\n",
              "BILL_AMT2    0.053742\n",
              "PAY_AMT1     0.053538\n",
              "PAY_AMT2     0.050958\n",
              "BILL_AMT3    0.050431\n",
              "BILL_AMT4    0.049255\n",
              "BILL_AMT6    0.048846\n",
              "BILL_AMT5    0.048520\n",
              "PAY_AMT3     0.048478\n",
              "PAY_AMT6     0.046917\n",
              "PAY_AMT4     0.045881\n",
              "PAY_AMT5     0.043380\n",
              "PAY_2        0.043364\n",
              "PAY_3        0.027357\n",
              "PAY_4        0.024496\n",
              "EDUCATION    0.020161\n",
              "PAY_6        0.019353\n",
              "PAY_5        0.018818\n",
              "MARRIAGE     0.012797\n",
              "SEX          0.011225"
            ]
          },
          "execution_count": 137,
          "metadata": {},
          "output_type": "execute_result"
        }
      ],
      "source": [
        "feature_importance_df"
      ]
    },
    {
      "cell_type": "code",
      "execution_count": 138,
      "metadata": {},
      "outputs": [],
      "source": [
        "# End the MLflow run\n",
        "mlflow.end_run()"
      ]
    },
    {
      "cell_type": "markdown",
      "metadata": {
        "id": "ghSi-XhToTZ5"
      },
      "source": [
        "As variaveis que mais contribuem para o modelo decidir se um cliente vai ser um bom ou mau pagador são:\n",
        "    - PAY_0 - Repayment status in September, 2005 \n",
        "    - LIMIT_BAL \n",
        "    - e, AGE - idade do cliente\n",
        "    "
      ]
    }
  ],
  "metadata": {
    "colab": {
      "collapsed_sections": [
        "tUhtD10ioTYV",
        "nfjkWZh4oTYj",
        "Aphz-nLGoTY1",
        "Kmv8FyejoTZI",
        "onKHTak6oTZY",
        "JEexZC_3oTZi",
        "zgk77FQFoTZy",
        "mVJKauqYoTZz",
        "eP5wGYdeoTZ5",
        "kO68aHLLoTZ5"
      ],
      "name": "final_exercice_solution.ipynb",
      "provenance": []
    },
    "interpreter": {
      "hash": "458393e0d725110a6d0a7c08e796de430035df3893ff37c15fbe20afef919c4b"
    },
    "kernelspec": {
      "display_name": "Python 3.7.11 64-bit ('rumos_bank': conda)",
      "name": "python3"
    },
    "language_info": {
      "codemirror_mode": {
        "name": "ipython",
        "version": 3
      },
      "file_extension": ".py",
      "mimetype": "text/x-python",
      "name": "python",
      "nbconvert_exporter": "python",
      "pygments_lexer": "ipython3",
      "version": "3.10.13"
    }
  },
  "nbformat": 4,
  "nbformat_minor": 0
}
