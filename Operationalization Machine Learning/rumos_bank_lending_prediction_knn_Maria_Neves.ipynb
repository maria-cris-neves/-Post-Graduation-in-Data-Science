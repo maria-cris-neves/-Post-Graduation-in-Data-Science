{
  "cells": [
    {
      "cell_type": "markdown",
      "metadata": {
        "id": "W41gagYVoTXS"
      },
      "source": [
        "# Final Exercice: The Rumos Bank (KNN)\n",
        "\n",
        "The Rumos Bank é um banco que tem perdido bastante dinheiro devido à quantidade de créditos que fornece e que não são pagos dentro do prazo devido. \n",
        "\n",
        "    - Por cada cliente que se estima que não irá  pagar dentro do prazo e afinal paga, o banco tem um custo de 1000euros. \n",
        "\n",
        "    - Por cada cliente que se prevê como sendo um bom pagador e afinal não paga dentro do prazo, o banco tem um custo de 3000euros.\n",
        "\n",
        "\n",
        "Vocês, data scientists de topo,  são contratados para ajudar o banco a prever quais os clientes que não irão cumprir os prazos, para que este consiga uma melhor gestão dos fundos.\n",
        "\n",
        "Conseguem construir um modelo que ajude a detectar previamente e com sucesso os clientes que são maus pagadores?\n"
      ]
    },
    {
      "cell_type": "markdown",
      "metadata": {
        "id": "JYU-jH7AoTXT"
      },
      "source": [
        "Dataset: https://www.kaggle.com/uciml/default-of-credit-card-clients-dataset\n",
        "\n",
        "Variáveis disponíveis:\n",
        "\n",
        "    ID: ID of each client\n",
        "    LIMIT_BAL: Amount of given credit in NT dollars (includes individual and family/supplementary credit\n",
        "    SEX: Gender (1=male, 2=female)\n",
        "    EDUCATION: (1=graduate school, 2=university, 3=high school, 4=others, 5=unknown, 6=unknown)\n",
        "    MARRIAGE: Marital status (1=married, 2=single, 3=others)\n",
        "    AGE: Age in years\n",
        "    PAY_0: Repayment status in September, 2005 (-1=pay duly, 1=payment delay for one month, 2=payment delay for two months, ... 8=payment delay for eight months, 9=payment delay for nine months and above)\n",
        "    PAY_2: Repayment status in August, 2005 (scale same as above)\n",
        "    PAY_3: Repayment status in July, 2005 (scale same as above)\n",
        "    PAY_4: Repayment status in June, 2005 (scale same as above)\n",
        "    PAY_5: Repayment status in May, 2005 (scale same as above)\n",
        "    PAY_6: Repayment status in April, 2005 (scale same as above)\n",
        "    BILL_AMT1: Amount of bill statement in September, 2005 (NT dollar)\n",
        "    BILL_AMT2: Amount of bill statement in August, 2005 (NT dollar)\n",
        "    BILL_AMT3: Amount of bill statement in July, 2005 (NT dollar)\n",
        "    BILL_AMT4: Amount of bill statement in June, 2005 (NT dollar)\n",
        "    BILL_AMT5: Amount of bill statement in May, 2005 (NT dollar)\n",
        "    BILL_AMT6: Amount of bill statement in April, 2005 (NT dollar)\n",
        "    PAY_AMT1: Amount of previous payment in September, 2005 (NT dollar)\n",
        "    PAY_AMT2: Amount of previous payment in August, 2005 (NT dollar)\n",
        "    PAY_AMT3: Amount of previous payment in July, 2005 (NT dollar)\n",
        "    PAY_AMT4: Amount of previous payment in June, 2005 (NT dollar)\n",
        "    PAY_AMT5: Amount of previous payment in May, 2005 (NT dollar)\n",
        "    PAY_AMT6: Amount of previous payment in April, 2005 (NT dollar)\n",
        "    default.payment.next.month: Default payment (1=yes, 0=no)"
      ]
    },
    {
      "cell_type": "markdown",
      "metadata": {
        "id": "nVoQ5Qa8oTXU"
      },
      "source": [
        "#### Perguntas:\n",
        "\n",
        "    1. Quantas features estão disponíveis? Quantos clientes?\n",
        "    2. Quantos clientes têm no dataset que efectivamente foram maus pagadores? E quantos não foram?\n",
        "    3. Qual o modelo que levou a melhores resultados? Qual a métrica usada para comparar os diferentes modelos?\n",
        "    4. Quais são as features mais relevantes para decidir se um cliente tem mais propensão para ser mau pagador?\n",
        "    5. Qual seria o custo que o banco tem sem nenhum modelo?\n",
        "    6. Qual o custo que o banco passa a tar com o vosso modelo?"
      ]
    },
    {
      "cell_type": "markdown",
      "metadata": {
        "id": "B2_4cQvxoTXU"
      },
      "source": [
        "Com base na informação dada, podemos definir que:\n",
        "\n",
        "    True positive - Os maus pagadores são identificados correctamente.\n",
        "    True negative - Os bons pagadores são identificados correctamente.\n",
        "    False positive - Um bom pagador é identificado como sendo um mau pagador.\n",
        "    False negative - Um mau pagador é identificado como sendo um bom pagador."
      ]
    },
    {
      "cell_type": "code",
      "execution_count": 1,
      "metadata": {},
      "outputs": [
        {
          "name": "stderr",
          "output_type": "stream",
          "text": [
            "c:\\Users\\asus\\miniconda3\\envs\\rumos-class-oml\\lib\\site-packages\\pydantic\\_internal\\_fields.py:128: UserWarning: Field \"model_server_url\" has conflict with protected namespace \"model_\".\n",
            "\n",
            "You may be able to resolve this warning by setting `model_config['protected_namespaces'] = ()`.\n",
            "  warnings.warn(\n",
            "c:\\Users\\asus\\miniconda3\\envs\\rumos-class-oml\\lib\\site-packages\\pydantic\\_internal\\_config.py:317: UserWarning: Valid config keys have changed in V2:\n",
            "* 'schema_extra' has been renamed to 'json_schema_extra'\n",
            "  warnings.warn(message, UserWarning)\n"
          ]
        }
      ],
      "source": [
        "# Import all necessary libraries\n",
        "import mlflow"
      ]
    },
    {
      "cell_type": "code",
      "execution_count": 2,
      "metadata": {
        "id": "Z4MjCm3SoTXV"
      },
      "outputs": [],
      "source": [
        "import pandas as pd\n",
        "import numpy as np\n",
        "import matplotlib.pyplot as plt\n",
        "from sklearn.metrics import  precision_recall_curve, roc_auc_score, confusion_matrix, accuracy_score, recall_score, precision_score, f1_score,auc, roc_curve\n",
        "import pandas as pd\n",
        "from sklearn.model_selection import train_test_split\n",
        "from sklearn.preprocessing import MinMaxScaler\n",
        "from sklearn.model_selection import GridSearchCV\n",
        "from sklearn.ensemble import RandomForestClassifier\n",
        "from sklearn.linear_model import LogisticRegression\n",
        "from sklearn.neighbors import KNeighborsClassifier\n",
        "from sklearn.svm import SVC\n",
        "from sklearn import tree\n",
        "from sklearn.linear_model import Perceptron\n",
        "from sklearn.neural_network import MLPClassifier\n",
        "from sklearn.pipeline import Pipeline"
      ]
    },
    {
      "cell_type": "code",
      "execution_count": 3,
      "metadata": {
        "colab": {
          "base_uri": "https://localhost:8080/",
          "height": 124
        },
        "id": "Y-MpSlfSoU8B",
        "outputId": "4b247912-e327-47ae-e366-a95f0888815d"
      },
      "outputs": [],
      "source": [
        "# Set the root path for data\n",
        "ROOT_PATH = '../data/'\n",
        "# Specify the target column name\n",
        "TARGET_COL = \"default.payment.next.month\"\n",
        "# Set the seed\n",
        "SEED = 42"
      ]
    },
    {
      "cell_type": "code",
      "execution_count": 4,
      "metadata": {},
      "outputs": [],
      "source": [
        "# Set the MLflow tracking URI to a SQLite database\n",
        "mlflow.set_tracking_uri(\"sqlite:///../../mlruns/mlflow.db\")"
      ]
    },
    {
      "cell_type": "code",
      "execution_count": 5,
      "metadata": {},
      "outputs": [
        {
          "data": {
            "text/plain": [
              "'sqlite:///../../mlruns/mlflow.db'"
            ]
          },
          "execution_count": 5,
          "metadata": {},
          "output_type": "execute_result"
        }
      ],
      "source": [
        "# Get the MLflow registry URI\n",
        "mlflow.get_registry_uri()"
      ]
    },
    {
      "cell_type": "code",
      "execution_count": 6,
      "metadata": {},
      "outputs": [
        {
          "data": {
            "text/plain": [
              "<Experiment: artifact_location='file:///c:/Users/asus/Desktop/ml-course/sample-project/rumos/rumos_bank/notebooks/../../mlruns/db', creation_time=1701261323218, experiment_id='9', last_update_time=1701261323218, lifecycle_stage='active', name='Rumos Bank Prediction Final Project', tags={}>"
            ]
          },
          "execution_count": 6,
          "metadata": {},
          "output_type": "execute_result"
        }
      ],
      "source": [
        "# Import necessary module\n",
        "from pathlib import Path\n",
        "# Define the artifact location path\n",
        "artifact_location = Path(\"../../mlruns/db\")\n",
        "\n",
        "# Create the folder '../../mlruns/db' if it doesn't exist\n",
        "artifact_location.mkdir(parents=True, exist_ok=True)\n",
        "# Specify the experiment name\n",
        "experiment_name = 'Rumos Bank Prediction Final Project'\n",
        "# Attempt to create the MLflow experiment with the specified name and artifact location\n",
        "try:\n",
        "    mlflow.create_experiment(name=experiment_name, artifact_location=artifact_location.as_posix())\n",
        "except mlflow.MlflowException:\n",
        "    # If the experiment already exists, catch the exception and proceed\n",
        "    pass\n",
        "# Set the active MLflow experiment to the specified experiment name\n",
        "mlflow.set_experiment(experiment_name=experiment_name)"
      ]
    },
    {
      "cell_type": "code",
      "execution_count": 7,
      "metadata": {},
      "outputs": [
        {
          "name": "stderr",
          "output_type": "stream",
          "text": [
            "2023/11/29 12:39:35 WARNING mlflow.utils.git_utils: Failed to import Git (the Git executable is probably not on your PATH), so Git SHA is not available. Error: Failed to initialize: Bad git executable.\n",
            "The git executable must be specified in one of the following ways:\n",
            "    - be included in your $PATH\n",
            "    - be set via $GIT_PYTHON_GIT_EXECUTABLE\n",
            "    - explicitly set via git.refresh()\n",
            "\n",
            "All git commands will error until this is rectified.\n",
            "\n",
            "This initial warning can be silenced or aggravated in the future by setting the\n",
            "$GIT_PYTHON_REFRESH environment variable. Use one of the following values:\n",
            "    - quiet|q|silence|s|none|n|0: for no warning or exception\n",
            "    - warn|w|warning|1: for a printed warning\n",
            "    - error|e|raise|r|2: for a raised exception\n",
            "\n",
            "Example:\n",
            "    export GIT_PYTHON_REFRESH=quiet\n",
            "\n"
          ]
        },
        {
          "data": {
            "text/plain": [
              "<ActiveRun: >"
            ]
          },
          "execution_count": 7,
          "metadata": {},
          "output_type": "execute_result"
        }
      ],
      "source": [
        "# Start a new MLflow run\n",
        "mlflow.start_run(run_name=\"Rumos Bank KNN\")"
      ]
    },
    {
      "cell_type": "code",
      "execution_count": 8,
      "metadata": {
        "id": "X9ipTbvyoTXX"
      },
      "outputs": [],
      "source": [
        "# Define the path to the lending data CSV file\n",
        "df_path = ROOT_PATH + 'lending_data.csv'\n",
        "# Define the path to the lending data CSV file\n",
        "df_set = pd.read_csv(df_path)"
      ]
    },
    {
      "cell_type": "code",
      "execution_count": 9,
      "metadata": {
        "colab": {
          "base_uri": "https://localhost:8080/",
          "height": 35
        },
        "id": "12BupRYpoTXZ",
        "outputId": "65933b5b-971b-45cc-c709-8ad6fadf5292"
      },
      "outputs": [
        {
          "data": {
            "text/plain": [
              "(30000, 25)"
            ]
          },
          "execution_count": 9,
          "metadata": {},
          "output_type": "execute_result"
        }
      ],
      "source": [
        "# Display the shape of the DataFrame\n",
        "df_set.shape"
      ]
    },
    {
      "cell_type": "code",
      "execution_count": 10,
      "metadata": {
        "colab": {
          "base_uri": "https://localhost:8080/",
          "height": 222
        },
        "id": "Mp3_eARGoTXd",
        "outputId": "8c403771-8569-42b2-b140-3536b40f79fb"
      },
      "outputs": [
        {
          "data": {
            "text/html": [
              "<div>\n",
              "<style scoped>\n",
              "    .dataframe tbody tr th:only-of-type {\n",
              "        vertical-align: middle;\n",
              "    }\n",
              "\n",
              "    .dataframe tbody tr th {\n",
              "        vertical-align: top;\n",
              "    }\n",
              "\n",
              "    .dataframe thead th {\n",
              "        text-align: right;\n",
              "    }\n",
              "</style>\n",
              "<table border=\"1\" class=\"dataframe\">\n",
              "  <thead>\n",
              "    <tr style=\"text-align: right;\">\n",
              "      <th></th>\n",
              "      <th>ID</th>\n",
              "      <th>LIMIT_BAL</th>\n",
              "      <th>SEX</th>\n",
              "      <th>EDUCATION</th>\n",
              "      <th>MARRIAGE</th>\n",
              "      <th>AGE</th>\n",
              "      <th>PAY_0</th>\n",
              "      <th>PAY_2</th>\n",
              "      <th>PAY_3</th>\n",
              "      <th>PAY_4</th>\n",
              "      <th>...</th>\n",
              "      <th>BILL_AMT4</th>\n",
              "      <th>BILL_AMT5</th>\n",
              "      <th>BILL_AMT6</th>\n",
              "      <th>PAY_AMT1</th>\n",
              "      <th>PAY_AMT2</th>\n",
              "      <th>PAY_AMT3</th>\n",
              "      <th>PAY_AMT4</th>\n",
              "      <th>PAY_AMT5</th>\n",
              "      <th>PAY_AMT6</th>\n",
              "      <th>default.payment.next.month</th>\n",
              "    </tr>\n",
              "  </thead>\n",
              "  <tbody>\n",
              "    <tr>\n",
              "      <th>0</th>\n",
              "      <td>1</td>\n",
              "      <td>20000.0</td>\n",
              "      <td>2</td>\n",
              "      <td>2</td>\n",
              "      <td>1</td>\n",
              "      <td>24</td>\n",
              "      <td>2</td>\n",
              "      <td>2</td>\n",
              "      <td>-1</td>\n",
              "      <td>-1</td>\n",
              "      <td>...</td>\n",
              "      <td>0.0</td>\n",
              "      <td>0.0</td>\n",
              "      <td>0.0</td>\n",
              "      <td>0.0</td>\n",
              "      <td>689.0</td>\n",
              "      <td>0.0</td>\n",
              "      <td>0.0</td>\n",
              "      <td>0.0</td>\n",
              "      <td>0.0</td>\n",
              "      <td>1</td>\n",
              "    </tr>\n",
              "    <tr>\n",
              "      <th>1</th>\n",
              "      <td>2</td>\n",
              "      <td>120000.0</td>\n",
              "      <td>2</td>\n",
              "      <td>2</td>\n",
              "      <td>2</td>\n",
              "      <td>26</td>\n",
              "      <td>-1</td>\n",
              "      <td>2</td>\n",
              "      <td>0</td>\n",
              "      <td>0</td>\n",
              "      <td>...</td>\n",
              "      <td>3272.0</td>\n",
              "      <td>3455.0</td>\n",
              "      <td>3261.0</td>\n",
              "      <td>0.0</td>\n",
              "      <td>1000.0</td>\n",
              "      <td>1000.0</td>\n",
              "      <td>1000.0</td>\n",
              "      <td>0.0</td>\n",
              "      <td>2000.0</td>\n",
              "      <td>1</td>\n",
              "    </tr>\n",
              "    <tr>\n",
              "      <th>2</th>\n",
              "      <td>3</td>\n",
              "      <td>90000.0</td>\n",
              "      <td>2</td>\n",
              "      <td>2</td>\n",
              "      <td>2</td>\n",
              "      <td>34</td>\n",
              "      <td>0</td>\n",
              "      <td>0</td>\n",
              "      <td>0</td>\n",
              "      <td>0</td>\n",
              "      <td>...</td>\n",
              "      <td>14331.0</td>\n",
              "      <td>14948.0</td>\n",
              "      <td>15549.0</td>\n",
              "      <td>1518.0</td>\n",
              "      <td>1500.0</td>\n",
              "      <td>1000.0</td>\n",
              "      <td>1000.0</td>\n",
              "      <td>1000.0</td>\n",
              "      <td>5000.0</td>\n",
              "      <td>0</td>\n",
              "    </tr>\n",
              "    <tr>\n",
              "      <th>3</th>\n",
              "      <td>4</td>\n",
              "      <td>50000.0</td>\n",
              "      <td>2</td>\n",
              "      <td>2</td>\n",
              "      <td>1</td>\n",
              "      <td>37</td>\n",
              "      <td>0</td>\n",
              "      <td>0</td>\n",
              "      <td>0</td>\n",
              "      <td>0</td>\n",
              "      <td>...</td>\n",
              "      <td>28314.0</td>\n",
              "      <td>28959.0</td>\n",
              "      <td>29547.0</td>\n",
              "      <td>2000.0</td>\n",
              "      <td>2019.0</td>\n",
              "      <td>1200.0</td>\n",
              "      <td>1100.0</td>\n",
              "      <td>1069.0</td>\n",
              "      <td>1000.0</td>\n",
              "      <td>0</td>\n",
              "    </tr>\n",
              "    <tr>\n",
              "      <th>4</th>\n",
              "      <td>5</td>\n",
              "      <td>50000.0</td>\n",
              "      <td>1</td>\n",
              "      <td>2</td>\n",
              "      <td>1</td>\n",
              "      <td>57</td>\n",
              "      <td>-1</td>\n",
              "      <td>0</td>\n",
              "      <td>-1</td>\n",
              "      <td>0</td>\n",
              "      <td>...</td>\n",
              "      <td>20940.0</td>\n",
              "      <td>19146.0</td>\n",
              "      <td>19131.0</td>\n",
              "      <td>2000.0</td>\n",
              "      <td>36681.0</td>\n",
              "      <td>10000.0</td>\n",
              "      <td>9000.0</td>\n",
              "      <td>689.0</td>\n",
              "      <td>679.0</td>\n",
              "      <td>0</td>\n",
              "    </tr>\n",
              "  </tbody>\n",
              "</table>\n",
              "<p>5 rows × 25 columns</p>\n",
              "</div>"
            ],
            "text/plain": [
              "   ID  LIMIT_BAL  SEX  EDUCATION  MARRIAGE  AGE  PAY_0  PAY_2  PAY_3  PAY_4  \\\n",
              "0   1    20000.0    2          2         1   24      2      2     -1     -1   \n",
              "1   2   120000.0    2          2         2   26     -1      2      0      0   \n",
              "2   3    90000.0    2          2         2   34      0      0      0      0   \n",
              "3   4    50000.0    2          2         1   37      0      0      0      0   \n",
              "4   5    50000.0    1          2         1   57     -1      0     -1      0   \n",
              "\n",
              "   ...  BILL_AMT4  BILL_AMT5  BILL_AMT6  PAY_AMT1  PAY_AMT2  PAY_AMT3  \\\n",
              "0  ...        0.0        0.0        0.0       0.0     689.0       0.0   \n",
              "1  ...     3272.0     3455.0     3261.0       0.0    1000.0    1000.0   \n",
              "2  ...    14331.0    14948.0    15549.0    1518.0    1500.0    1000.0   \n",
              "3  ...    28314.0    28959.0    29547.0    2000.0    2019.0    1200.0   \n",
              "4  ...    20940.0    19146.0    19131.0    2000.0   36681.0   10000.0   \n",
              "\n",
              "   PAY_AMT4  PAY_AMT5  PAY_AMT6  default.payment.next.month  \n",
              "0       0.0       0.0       0.0                           1  \n",
              "1    1000.0       0.0    2000.0                           1  \n",
              "2    1000.0    1000.0    5000.0                           0  \n",
              "3    1100.0    1069.0    1000.0                           0  \n",
              "4    9000.0     689.0     679.0                           0  \n",
              "\n",
              "[5 rows x 25 columns]"
            ]
          },
          "execution_count": 10,
          "metadata": {},
          "output_type": "execute_result"
        }
      ],
      "source": [
        "df_set.head()"
      ]
    },
    {
      "cell_type": "code",
      "execution_count": 11,
      "metadata": {
        "colab": {
          "base_uri": "https://localhost:8080/",
          "height": 35
        },
        "id": "0lJt8GJcoTXk",
        "outputId": "dd54489b-beb1-44b3-ae4b-9741da84dfdd"
      },
      "outputs": [
        {
          "data": {
            "text/plain": [
              "30000"
            ]
          },
          "execution_count": 11,
          "metadata": {},
          "output_type": "execute_result"
        }
      ],
      "source": [
        "# Get the number of unique values in the 'ID' column\n",
        "df_set.ID.nunique()"
      ]
    },
    {
      "cell_type": "markdown",
      "metadata": {
        "id": "sqAFRENhoTXm"
      },
      "source": [
        "#### 1. Quantas features estão disponíveis? Quantos clientes?\n",
        "\n",
        "    - Existem 24 features disponíveis no dataset.\n",
        "    - Existem 30000 clientes."
      ]
    },
    {
      "cell_type": "markdown",
      "metadata": {
        "id": "3YbHArONoTXn"
      },
      "source": [
        "Existem missing values?"
      ]
    },
    {
      "cell_type": "code",
      "execution_count": 12,
      "metadata": {
        "colab": {
          "base_uri": "https://localhost:8080/",
          "height": 35
        },
        "id": "BQ6pba_toTXn",
        "outputId": "21213044-1145-47f8-b782-aa960d4b6423"
      },
      "outputs": [
        {
          "data": {
            "text/plain": [
              "False"
            ]
          },
          "execution_count": 12,
          "metadata": {},
          "output_type": "execute_result"
        }
      ],
      "source": [
        "# Check if there are any missing values\n",
        "df_set.isnull().values.any()"
      ]
    },
    {
      "cell_type": "markdown",
      "metadata": {
        "id": "sxP492KgoTXp"
      },
      "source": [
        "Existem o mesmo número de clientes nas duas classes?"
      ]
    },
    {
      "cell_type": "code",
      "execution_count": 13,
      "metadata": {
        "colab": {
          "base_uri": "https://localhost:8080/",
          "height": 87
        },
        "id": "GmTJYjZIoTXq",
        "outputId": "9fe95444-71ac-4f20-81fe-05cd14980f72"
      },
      "outputs": [
        {
          "data": {
            "text/plain": [
              "default.payment.next.month\n",
              "0    23364\n",
              "1     6636\n",
              "Name: default.payment.next.month, dtype: int64"
            ]
          },
          "execution_count": 13,
          "metadata": {},
          "output_type": "execute_result"
        }
      ],
      "source": [
        "# Group the DataFrame by the 'default.payment.next.month' column and count the occurrences of each group\n",
        "df_set.groupby('default.payment.next.month')['default.payment.next.month'].count()"
      ]
    },
    {
      "cell_type": "markdown",
      "metadata": {
        "id": "DBOZGu0MoTXs"
      },
      "source": [
        "Não! O dataset é altamente desequilibrado.\n",
        "\n",
        "#### 2. Quantos clientes têm no dataset que efectivamente foram maus pagadores? E quantos não foram?\n",
        "\n",
        "    - 23,364 foram bons pagadores. 6,636 foram maus pagadores."
      ]
    },
    {
      "cell_type": "markdown",
      "metadata": {
        "id": "-0L7ahP1oTXt"
      },
      "source": [
        "Existem features não númericas?"
      ]
    },
    {
      "cell_type": "code",
      "execution_count": 14,
      "metadata": {
        "colab": {
          "base_uri": "https://localhost:8080/",
          "height": 468
        },
        "id": "rei2UvwboTXu",
        "outputId": "d9a0fa2d-ed30-48ff-e479-7de51bcf2234"
      },
      "outputs": [
        {
          "data": {
            "text/plain": [
              "ID                              int64\n",
              "LIMIT_BAL                     float64\n",
              "SEX                             int64\n",
              "EDUCATION                       int64\n",
              "MARRIAGE                        int64\n",
              "AGE                             int64\n",
              "PAY_0                           int64\n",
              "PAY_2                           int64\n",
              "PAY_3                           int64\n",
              "PAY_4                           int64\n",
              "PAY_5                           int64\n",
              "PAY_6                           int64\n",
              "BILL_AMT1                     float64\n",
              "BILL_AMT2                     float64\n",
              "BILL_AMT3                     float64\n",
              "BILL_AMT4                     float64\n",
              "BILL_AMT5                     float64\n",
              "BILL_AMT6                     float64\n",
              "PAY_AMT1                      float64\n",
              "PAY_AMT2                      float64\n",
              "PAY_AMT3                      float64\n",
              "PAY_AMT4                      float64\n",
              "PAY_AMT5                      float64\n",
              "PAY_AMT6                      float64\n",
              "default.payment.next.month      int64\n",
              "dtype: object"
            ]
          },
          "execution_count": 14,
          "metadata": {},
          "output_type": "execute_result"
        }
      ],
      "source": [
        "# Display the data types of each column\n",
        "df_set.dtypes"
      ]
    },
    {
      "cell_type": "markdown",
      "metadata": {
        "id": "6lv_holtoTXx"
      },
      "source": [
        "Todas as features são númericas.\n",
        "\n",
        "Vamos retirar o ID do cliente:"
      ]
    },
    {
      "cell_type": "code",
      "execution_count": 15,
      "metadata": {
        "id": "bS6_8IecoTXx"
      },
      "outputs": [],
      "source": [
        "# Create a new DataFrame 'df' by dropping the 'ID' column from 'df_set'\n",
        "df = df_set.drop('ID', axis = 1)"
      ]
    },
    {
      "cell_type": "markdown",
      "metadata": {
        "id": "1nNKn5KeoTXz"
      },
      "source": [
        "Vamos então dividir o dataset em treino e teste:"
      ]
    },
    {
      "cell_type": "code",
      "execution_count": 16,
      "metadata": {
        "id": "cjfA10IboTX0"
      },
      "outputs": [],
      "source": [
        "# Split the DataFrame 'df' into training and testing sets using train_test_split\n",
        "train_set, test_set = train_test_split(df, test_size = 0.2, random_state = SEED)"
      ]
    },
    {
      "cell_type": "code",
      "execution_count": 17,
      "metadata": {},
      "outputs": [],
      "source": [
        "# Define file paths for the training and testing sets\n",
        "train_path = ROOT_PATH + 'lending_train.csv'\n",
        "test_path = ROOT_PATH + 'lending_test.csv'"
      ]
    },
    {
      "cell_type": "code",
      "execution_count": 18,
      "metadata": {},
      "outputs": [],
      "source": [
        "# Save the training and testing sets to CSV files\n",
        "train_set.to_csv('lending_train.csv', index=False)\n",
        "test_set.to_csv('lending_test.csv', index=False)"
      ]
    },
    {
      "cell_type": "code",
      "execution_count": 19,
      "metadata": {},
      "outputs": [],
      "source": [
        "# Read the training and testing sets from the saved CSV files\n",
        "train_set = pd.read_csv('lending_train.csv')\n",
        "test_set = pd.read_csv('lending_test.csv')"
      ]
    },
    {
      "cell_type": "code",
      "execution_count": 20,
      "metadata": {},
      "outputs": [
        {
          "name": "stderr",
          "output_type": "stream",
          "text": [
            "c:\\Users\\asus\\miniconda3\\envs\\rumos-class-oml\\lib\\site-packages\\mlflow\\data\\dataset_source_registry.py:143: UserWarning: The specified dataset source can be interpreted in multiple ways: LocalArtifactDatasetSource, LocalArtifactDatasetSource. MLflow will assume that this is a LocalArtifactDatasetSource source.\n",
            "  return _dataset_source_registry.resolve(\n",
            "c:\\Users\\asus\\miniconda3\\envs\\rumos-class-oml\\lib\\site-packages\\mlflow\\data\\digest_utils.py:26: FutureWarning: DataFrame.applymap has been deprecated. Use DataFrame.map instead.\n",
            "  string_columns = trimmed_df.columns[(df.applymap(type) == str).all(0)]\n",
            "c:\\Users\\asus\\miniconda3\\envs\\rumos-class-oml\\lib\\site-packages\\mlflow\\data\\dataset_source_registry.py:143: UserWarning: The specified dataset source can be interpreted in multiple ways: LocalArtifactDatasetSource, LocalArtifactDatasetSource. MLflow will assume that this is a LocalArtifactDatasetSource source.\n",
            "  return _dataset_source_registry.resolve(\n",
            "c:\\Users\\asus\\miniconda3\\envs\\rumos-class-oml\\lib\\site-packages\\mlflow\\data\\digest_utils.py:26: FutureWarning: DataFrame.applymap has been deprecated. Use DataFrame.map instead.\n",
            "  string_columns = trimmed_df.columns[(df.applymap(type) == str).all(0)]\n"
          ]
        }
      ],
      "source": [
        "# Create MLflow datasets from Pandas DataFrames for training and testing sets\n",
        "train_dataset = mlflow.data.from_pandas(train_set, source=train_path, targets=TARGET_COL, name=\"Lending Train Dataset\")\n",
        "test_dataset = mlflow.data.from_pandas(test_set, source=test_path, targets=TARGET_COL, name=\"Lending Test Dataset\")"
      ]
    },
    {
      "cell_type": "code",
      "execution_count": 21,
      "metadata": {},
      "outputs": [
        {
          "data": {
            "text/plain": [
              "42"
            ]
          },
          "execution_count": 21,
          "metadata": {},
          "output_type": "execute_result"
        }
      ],
      "source": [
        "# Log the seed parameter used in the experiment\n",
        "\n",
        "mlflow.log_param(\"seed\", SEED)"
      ]
    },
    {
      "cell_type": "code",
      "execution_count": 22,
      "metadata": {},
      "outputs": [
        {
          "name": "stderr",
          "output_type": "stream",
          "text": [
            "c:\\Users\\asus\\miniconda3\\envs\\rumos-class-oml\\lib\\site-packages\\mlflow\\data\\pandas_dataset.py:116: UserWarning: Hint: Inferred schema contains integer column(s). Integer columns in Python cannot represent missing values. If your input data contains missing values at inference time, it will be encoded as floats and will cause a schema enforcement error. The best way to avoid this problem is to infer the model schema based on a realistic data sample (training dataset) that includes missing values. Alternatively, you can declare integer columns as doubles (float64) whenever these columns may have missing values. See `Handling Integers With Missing Values <https://www.mlflow.org/docs/latest/models.html#handling-integers-with-missing-values>`_ for more details.\n",
            "  return _infer_schema(self._df)\n"
          ]
        }
      ],
      "source": [
        "# Log the training and testing datasets as inputs in the \"train\" and \"test\" contexts\n",
        "mlflow.log_input(train_dataset, context = \"train\")\n",
        "mlflow.log_input(test_dataset, context = \"test\")"
      ]
    },
    {
      "cell_type": "code",
      "execution_count": 23,
      "metadata": {
        "id": "-6k8pIbEoTX2"
      },
      "outputs": [],
      "source": [
        "# Separate features and target variable for training set\n",
        "X_train = train_set.drop([TARGET_COL], axis = 'columns')\n",
        "y_train = train_set[TARGET_COL]\n",
        "# Separate features and target variable for testing set\n",
        "X_test = test_set.drop([TARGET_COL], axis = 1)\n",
        "y_test = test_set[TARGET_COL]"
      ]
    },
    {
      "cell_type": "markdown",
      "metadata": {
        "id": "4PBykJJpoTX7"
      },
      "source": [
        "Antes de iniciar, vamos calcular a baseline, ou seja, o custo que temos sem nenhum modelo.\n",
        "\n",
        "$$totalCost = 1000∗FP+3000∗FN$$"
      ]
    },
    {
      "cell_type": "code",
      "execution_count": 24,
      "metadata": {
        "id": "AKL-L-7moTX7"
      },
      "outputs": [],
      "source": [
        "# Create an array of predicted labels, assuming all predictions are \"bad\" (1)\n",
        "y_preds_all_bad = np.ones(y_test.shape) "
      ]
    },
    {
      "cell_type": "code",
      "execution_count": 25,
      "metadata": {
        "colab": {
          "base_uri": "https://localhost:8080/",
          "height": 87
        },
        "id": "2UyI8OkVoTX-",
        "outputId": "2e853506-14ca-4165-d945-eee653eb97da"
      },
      "outputs": [
        {
          "name": "stdout",
          "output_type": "stream",
          "text": [
            "Number of True Negatives: 0\n",
            "Number of True Positives: 1313\n",
            "Number of False Negatives: 0\n",
            "Number of False Positives: 4687\n"
          ]
        }
      ],
      "source": [
        "# Calculate and print the elements of the confusion matrix\n",
        "tn, fp, fn, tp = confusion_matrix(y_test, y_preds_all_bad).ravel()\n",
        "\n",
        "print('Number of True Negatives:', tn)\n",
        "print('Number of True Positives:', tp)\n",
        "print('Number of False Negatives:', fn)\n",
        "print('Number of False Positives:', fp)"
      ]
    },
    {
      "cell_type": "code",
      "execution_count": 26,
      "metadata": {
        "colab": {
          "base_uri": "https://localhost:8080/",
          "height": 35
        },
        "id": "Wojzq6oDoTYB",
        "outputId": "a8319123-54ab-4237-fb86-3a512e066acb"
      },
      "outputs": [
        {
          "name": "stdout",
          "output_type": "stream",
          "text": [
            "Total Cost: 4687000\n"
          ]
        }
      ],
      "source": [
        "# Calculate and print the total cost based on the number of False Positives\n",
        "print('Total Cost:', fp*1000)"
      ]
    },
    {
      "cell_type": "code",
      "execution_count": 27,
      "metadata": {
        "colab": {
          "base_uri": "https://localhost:8080/",
          "height": 35
        },
        "id": "MWa7w4BZoTYE",
        "outputId": "80964cf4-34de-4fdc-ae02-eace4973d724"
      },
      "outputs": [
        {
          "data": {
            "text/plain": [
              "0.21883333333333332"
            ]
          },
          "execution_count": 27,
          "metadata": {},
          "output_type": "execute_result"
        }
      ],
      "source": [
        "# Calculate and print the accuracy score\n",
        "accuracy_score(y_test, y_preds_all_bad)"
      ]
    },
    {
      "cell_type": "markdown",
      "metadata": {
        "id": "adm4iMnooTYH"
      },
      "source": [
        "Se todos os clientes fossem considerados como maus pagadores, o banco teria um custo de 4,687,000 Euros."
      ]
    },
    {
      "cell_type": "code",
      "execution_count": 28,
      "metadata": {
        "colab": {
          "base_uri": "https://localhost:8080/",
          "height": 87
        },
        "id": "qljaMtZmoTYI",
        "outputId": "21519186-ac27-47ba-bed6-3303e2e907cd"
      },
      "outputs": [
        {
          "name": "stdout",
          "output_type": "stream",
          "text": [
            "Number of True Negatives: 4687\n",
            "Number of True Positives: 0\n",
            "Number of False Negatives: 1313\n",
            "Number of False Positives: 0\n"
          ]
        }
      ],
      "source": [
        "# Create an array of predicted labels, assuming all predictions are \"good\" (0)\n",
        "y_preds_all_good = np.zeros(y_test.shape) \n",
        "# Calculate and print the elements of the confusion matrix\n",
        "tn, fp, fn, tp = confusion_matrix(y_test, y_preds_all_good).ravel()\n",
        "\n",
        "print('Number of True Negatives:', tn)\n",
        "print('Number of True Positives:', tp)\n",
        "print('Number of False Negatives:', fn)\n",
        "print('Number of False Positives:', fp)"
      ]
    },
    {
      "cell_type": "code",
      "execution_count": 29,
      "metadata": {
        "colab": {
          "base_uri": "https://localhost:8080/",
          "height": 35
        },
        "id": "BL5U0I2xoTYL",
        "outputId": "289f031d-c9b4-4b25-d640-eb5e234884cf"
      },
      "outputs": [],
      "source": [
        "# Calculate the total cost based on the number of False Negatives\n",
        "total_cost_baseline =  fn*3000"
      ]
    },
    {
      "cell_type": "code",
      "execution_count": 30,
      "metadata": {},
      "outputs": [
        {
          "data": {
            "text/plain": [
              "3939000"
            ]
          },
          "execution_count": 30,
          "metadata": {},
          "output_type": "execute_result"
        }
      ],
      "source": [
        "total_cost_baseline"
      ]
    },
    {
      "cell_type": "code",
      "execution_count": 31,
      "metadata": {},
      "outputs": [],
      "source": [
        "mlflow.log_metric(\"total_cost_baseline\", total_cost_baseline)"
      ]
    },
    {
      "cell_type": "code",
      "execution_count": 32,
      "metadata": {
        "colab": {
          "base_uri": "https://localhost:8080/",
          "height": 35
        },
        "id": "BsF5qd42oTYO",
        "outputId": "23f39bfc-63b6-495d-ccba-964af157aa63"
      },
      "outputs": [],
      "source": [
        "# Calculate the accuracy score\n",
        "score_baseline = accuracy_score(y_test, y_preds_all_good)"
      ]
    },
    {
      "cell_type": "code",
      "execution_count": 33,
      "metadata": {},
      "outputs": [
        {
          "data": {
            "text/plain": [
              "0.7811666666666667"
            ]
          },
          "execution_count": 33,
          "metadata": {},
          "output_type": "execute_result"
        }
      ],
      "source": [
        "score_baseline"
      ]
    },
    {
      "cell_type": "code",
      "execution_count": 34,
      "metadata": {},
      "outputs": [],
      "source": [
        "mlflow.log_metric(\"score_baseline\", score_baseline)"
      ]
    },
    {
      "cell_type": "markdown",
      "metadata": {
        "id": "mFTIDzoxoTYQ"
      },
      "source": [
        "Se todos os clientes fossem considerados bons pagadores, o banco teria um custo de 3,939,000 Euros."
      ]
    },
    {
      "cell_type": "code",
      "execution_count": 35,
      "metadata": {
        "id": "rM-AwWw_oTYQ"
      },
      "outputs": [],
      "source": [
        "# Define a function to calculate total cost based on the confusion matrix\n",
        "def total_cost(y_test, y_preds, threshold = 0.5):\n",
        "    \n",
        "    tn, fp, fn, tp = confusion_matrix(y_test == 1, y_preds > threshold).ravel()\n",
        "    \n",
        "    cost_fn = fn*3000\n",
        "    cost_fp = fp*1000\n",
        "    \n",
        "    return cost_fn + cost_fp\n",
        "    "
      ]
    },
    {
      "cell_type": "code",
      "execution_count": 36,
      "metadata": {
        "id": "TqKsBVjNoTYS"
      },
      "outputs": [],
      "source": [
        "# Define a function to find the threshold with the minimum cost\n",
        "def min_cost_threshold(y_test, y_preds):\n",
        "    \n",
        "    costs = {}\n",
        "    # Iterate over thresholds from 0 to 1 with a step of 0.1\n",
        "    for threshold in np.arange(0, 1.1, 0.1):\n",
        "        \n",
        "        costs[round(threshold, 1)] = total_cost(y_test, y_preds, threshold = threshold)\n",
        "\n",
        "     # Plot the costs at different thresholds    \n",
        "    plt.plot(list(costs.keys()), list(costs.values()))\n",
        "    plt.ylabel('Cost')\n",
        "    plt.xlabel('Threshold')\n",
        "    plt.show()\n",
        "    "
      ]
    },
    {
      "cell_type": "markdown",
      "metadata": {
        "id": "1t0TwGgGoTX4"
      },
      "source": [
        "#### Model Pipeline"
      ]
    },
    {
      "cell_type": "markdown",
      "metadata": {
        "id": "nfjkWZh4oTYj"
      },
      "source": [
        "#### KNN"
      ]
    },
    {
      "cell_type": "code",
      "execution_count": 37,
      "metadata": {
        "id": "_VuZgPnKoTYk",
        "outputId": "6b4641e1-36ec-4f5d-867e-f6c820998db6"
      },
      "outputs": [],
      "source": [
        "# Define the name and hyperparameters for the K-Nearest Neighbors (KNN) model\n",
        "model_name_knn = \"knn\"\n",
        "parameters_knn = {'knn__n_neighbors': range(1,10, 1)}\n",
        "\n",
        "# Create a pipeline for the KNN model\n",
        "pipeline_knn = Pipeline([\n",
        "    ('scaler', MinMaxScaler()),\n",
        "    ('knn', KNeighborsClassifier())\n",
        "])"
      ]
    },
    {
      "cell_type": "markdown",
      "metadata": {
        "id": "VN3dUKK7oTYm"
      },
      "source": [
        "KNN não é um metodo adequado para grandes datasets! Vamos ver se compensa a nível de resultados:"
      ]
    },
    {
      "cell_type": "code",
      "execution_count": 38,
      "metadata": {},
      "outputs": [
        {
          "data": {
            "text/plain": [
              "'knn'"
            ]
          },
          "execution_count": 38,
          "metadata": {},
          "output_type": "execute_result"
        }
      ],
      "source": [
        "# Log the KNN model name as a parameter in MLflow\n",
        "mlflow.log_param(\"model_name_knn\", model_name_knn)"
      ]
    },
    {
      "cell_type": "code",
      "execution_count": 39,
      "metadata": {},
      "outputs": [],
      "source": [
        "# Use GridSearchCV to find the best hyperparameters for the KNN model\n",
        "clf_knn = GridSearchCV(pipeline_knn, parameters_knn, cv =5).fit(X_train, y_train)"
      ]
    },
    {
      "cell_type": "code",
      "execution_count": 40,
      "metadata": {},
      "outputs": [],
      "source": [
        "# Log the best hyperparameters found by GridSearchCV for the KNN model in MLflow\n",
        "mlflow.log_params(clf_knn.best_params_)"
      ]
    },
    {
      "cell_type": "code",
      "execution_count": 41,
      "metadata": {},
      "outputs": [
        {
          "data": {
            "text/plain": [
              "<mlflow.models.model.ModelInfo at 0x2414ca65810>"
            ]
          },
          "execution_count": 41,
          "metadata": {},
          "output_type": "execute_result"
        }
      ],
      "source": [
        "# Log the best-performing KNN model using MLflow\n",
        "mlflow.sklearn.log_model(clf_knn, artifact_path=\"grid_search_cv_knn\")"
      ]
    },
    {
      "cell_type": "code",
      "execution_count": 42,
      "metadata": {},
      "outputs": [],
      "source": [
        "# Extract the best-performing KNN pipeline from the GridSearchCV result\n",
        "tunned_knn_pipeline = clf_knn.best_estimator_"
      ]
    },
    {
      "cell_type": "code",
      "execution_count": 43,
      "metadata": {},
      "outputs": [
        {
          "name": "stderr",
          "output_type": "stream",
          "text": [
            "c:\\Users\\asus\\miniconda3\\envs\\rumos-class-oml\\lib\\site-packages\\_distutils_hack\\__init__.py:18: UserWarning: Distutils was imported before Setuptools, but importing Setuptools also replaces the `distutils` module in `sys.modules`. This may lead to undesirable behaviors or errors. To avoid these issues, avoid using distutils directly, ensure that setuptools is installed in the traditional way (e.g. not an editable install), and/or make sure that setuptools is always imported before distutils.\n",
            "  warnings.warn(\n",
            "c:\\Users\\asus\\miniconda3\\envs\\rumos-class-oml\\lib\\site-packages\\_distutils_hack\\__init__.py:33: UserWarning: Setuptools is replacing distutils.\n",
            "  warnings.warn(\"Setuptools is replacing distutils.\")\n",
            "Successfully registered model 'knn'.\n",
            "2023/11/29 12:41:05 INFO mlflow.tracking._model_registry.client: Waiting up to 300 seconds for model version to finish creation. Model name: knn, version 1\n",
            "Created version '1' of model 'knn'.\n"
          ]
        },
        {
          "data": {
            "text/plain": [
              "<mlflow.models.model.ModelInfo at 0x2414cbb66b0>"
            ]
          },
          "execution_count": 43,
          "metadata": {},
          "output_type": "execute_result"
        }
      ],
      "source": [
        "# Log the tuned KNN pipeline as a registered model in MLflow\n",
        "mlflow.sklearn.log_model(tunned_knn_pipeline, \"tunned_knn_pipeline\", registered_model_name=\"knn\")"
      ]
    },
    {
      "cell_type": "code",
      "execution_count": 44,
      "metadata": {},
      "outputs": [
        {
          "data": {
            "text/plain": [
              "{'memory': None,\n",
              " 'steps': [('scaler', MinMaxScaler()),\n",
              "  ('knn', KNeighborsClassifier(n_neighbors=9))],\n",
              " 'verbose': False,\n",
              " 'scaler': MinMaxScaler(),\n",
              " 'knn': KNeighborsClassifier(n_neighbors=9),\n",
              " 'scaler__clip': False,\n",
              " 'scaler__copy': True,\n",
              " 'scaler__feature_range': (0, 1),\n",
              " 'knn__algorithm': 'auto',\n",
              " 'knn__leaf_size': 30,\n",
              " 'knn__metric': 'minkowski',\n",
              " 'knn__metric_params': None,\n",
              " 'knn__n_jobs': None,\n",
              " 'knn__n_neighbors': 9,\n",
              " 'knn__p': 2,\n",
              " 'knn__weights': 'uniform'}"
            ]
          },
          "execution_count": 44,
          "metadata": {},
          "output_type": "execute_result"
        }
      ],
      "source": [
        "# Get the parameters of the tuned KNN pipeline\n",
        "tunned_knn_pipeline.get_params()"
      ]
    },
    {
      "cell_type": "code",
      "execution_count": 45,
      "metadata": {},
      "outputs": [],
      "source": [
        "# Calculate and store the accuracy score of the tuned KNN model on the test set\n",
        "score_knn = clf_knn.score(X_test, y_test)"
      ]
    },
    {
      "cell_type": "code",
      "execution_count": 46,
      "metadata": {},
      "outputs": [
        {
          "data": {
            "text/plain": [
              "0.807"
            ]
          },
          "execution_count": 46,
          "metadata": {},
          "output_type": "execute_result"
        }
      ],
      "source": [
        "score_knn"
      ]
    },
    {
      "cell_type": "code",
      "execution_count": 47,
      "metadata": {},
      "outputs": [],
      "source": [
        "# Log the accuracy score as a metric in MLflow\n",
        "mlflow.log_metric(\"score_knn\", score_knn)"
      ]
    },
    {
      "cell_type": "code",
      "execution_count": 48,
      "metadata": {},
      "outputs": [],
      "source": [
        "# Make probability predictions using the tuned KNN pipeline on the test set\n",
        "y_preds = tunned_knn_pipeline.predict_proba(X_test)[:,1]"
      ]
    },
    {
      "cell_type": "code",
      "execution_count": 49,
      "metadata": {
        "id": "C2FHBJMtoTYr",
        "outputId": "6d7ec753-63ef-4584-e9a2-eff9f6cb9d4c"
      },
      "outputs": [
        {
          "data": {
            "text/plain": [
              "2900000"
            ]
          },
          "execution_count": 49,
          "metadata": {},
          "output_type": "execute_result"
        }
      ],
      "source": [
        "# Calculate and print the total cost based on the tuned KNN predictions\n",
        "total_cost(y_test, y_preds, threshold = 0.5)"
      ]
    },
    {
      "cell_type": "code",
      "execution_count": 50,
      "metadata": {
        "id": "JnInmWwxoTYu",
        "outputId": "13519940-041c-431e-b301-deffc9205b60"
      },
      "outputs": [
        {
          "data": {
            "image/png": "[encoded data removed]",
            "text/plain": [
              "<Figure size 640x480 with 1 Axes>"
            ]
          },
          "metadata": {},
          "output_type": "display_data"
        }
      ],
      "source": [
        "# Find and visualize the threshold with the minimum cost for the tuned KNN predictions\n",
        "min_cost_threshold(y_test, y_preds)"
      ]
    },
    {
      "cell_type": "code",
      "execution_count": 51,
      "metadata": {
        "id": "R-Q9DwwooTYz",
        "outputId": "a54870c2-e2b2-49f2-d61b-c1085b4c60e9"
      },
      "outputs": [],
      "source": [
        "# Calculate and store the total cost based on the tuned KNN predictions with a specific threshold\n",
        "total_cost_res_knn = total_cost(y_test, y_preds, threshold = 0.3)"
      ]
    },
    {
      "cell_type": "code",
      "execution_count": 52,
      "metadata": {},
      "outputs": [
        {
          "data": {
            "text/plain": [
              "2715000"
            ]
          },
          "execution_count": 52,
          "metadata": {},
          "output_type": "execute_result"
        }
      ],
      "source": [
        "total_cost_res_knn"
      ]
    },
    {
      "cell_type": "code",
      "execution_count": 53,
      "metadata": {},
      "outputs": [],
      "source": [
        "# Log the total cost as a metric in MLflow\n",
        "mlflow.log_metric(\"total_cost_knn\", total_cost_res_knn)"
      ]
    },
    {
      "cell_type": "code",
      "execution_count": 54,
      "metadata": {},
      "outputs": [],
      "source": [
        "mlflow.end_run()"
      ]
    },
    {
      "cell_type": "markdown",
      "metadata": {
        "id": "CNrPYbXZoTY0"
      },
      "source": [
        "Melhor que a baseline mas pior que usar regressão logistica."
      ]
    }
  ],
  "metadata": {
    "colab": {
      "collapsed_sections": [
        "tUhtD10ioTYV",
        "nfjkWZh4oTYj",
        "Aphz-nLGoTY1",
        "Kmv8FyejoTZI",
        "onKHTak6oTZY",
        "JEexZC_3oTZi",
        "zgk77FQFoTZy",
        "mVJKauqYoTZz",
        "eP5wGYdeoTZ5",
        "kO68aHLLoTZ5"
      ],
      "name": "final_exercice_solution.ipynb",
      "provenance": []
    },
    "interpreter": {
      "hash": "458393e0d725110a6d0a7c08e796de430035df3893ff37c15fbe20afef919c4b"
    },
    "kernelspec": {
      "display_name": "Python 3.7.11 64-bit ('rumos_bank': conda)",
      "name": "python3"
    },
    "language_info": {
      "codemirror_mode": {
        "name": "ipython",
        "version": 3
      },
      "file_extension": ".py",
      "mimetype": "text/x-python",
      "name": "python",
      "nbconvert_exporter": "python",
      "pygments_lexer": "ipython3",
      "version": "3.10.13"
    }
  },
  "nbformat": 4,
  "nbformat_minor": 0
}
